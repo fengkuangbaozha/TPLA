{
 "metadata": {
  "name": "",
  "signature": "sha256:d0c33cd7fcef2a2c858e2b514997fa10b6c4ebbb487c93b91661f8d121a8030b"
 },
 "nbformat": 3,
 "nbformat_minor": 0,
 "worksheets": [
  {
   "cells": [
    {
     "cell_type": "heading",
     "level": 1,
     "metadata": {},
     "source": [
      "TPLA -- The plant lncRNA atlas"
     ]
    },
    {
     "cell_type": "heading",
     "level": 5,
     "metadata": {},
     "source": [
      "There are 6 plant species in this database, so we separate into 6 parts"
     ]
    },
    {
     "cell_type": "heading",
     "level": 2,
     "metadata": {},
     "source": [
      "Part Five.  Solanum_lycopersicum"
     ]
    },
    {
     "cell_type": "heading",
     "level": 3,
     "metadata": {},
     "source": [
      "1. Assemble the transcriptome with RNA-seq datasets."
     ]
    },
    {
     "cell_type": "heading",
     "level": 6,
     "metadata": {},
     "source": [
      "we downloaded RNA-seq datasets from NCBI SRA. Cleaned reads with SolexaQA, Cutadapter. Mapped reads to the genome with Tophat. Assembled the transcriptome with Cufflinks."
     ]
    },
    {
     "cell_type": "code",
     "collapsed": false,
     "input": [
      "#######for single end data#######\n",
      "#!qsub -t 16-31 /psc/bioinformatics/sunyd/identify/assemble_qsub.sh /psc/bioinformatics/sunyd/identify/tomato_rnaseq/SRP022909 SRR8630 /psc/bioinformatics/sunyd/genome/solanum_lycopersicum/sly_ITAG2.4.gff3 /psc/bioinformatics/sunyd/genome/solanum_lycopersicum/sly_ITAG2.4_genomic"
     ],
     "language": "python",
     "metadata": {},
     "outputs": [],
     "prompt_number": 1
    },
    {
     "cell_type": "code",
     "collapsed": false,
     "input": [
      "######for paired end data###############\n",
      "#!qsub -t 507 /psc/bioinformatics/sunyd/identify/assemble_pair_qsub.sh /psc/bioinformatics/sunyd/identify/tomato_rnaseq/SRP019504 SRR786 /psc/bioinformatics/sunyd/genome/solanum_lycopersicum/sly_ITAG2.4.gff3 /psc/bioinformatics/sunyd/genome/solanum_lycopersicum/sly_ITAG2.4_genomic"
     ],
     "language": "python",
     "metadata": {},
     "outputs": [],
     "prompt_number": 3
    },
    {
     "cell_type": "code",
     "collapsed": false,
     "input": [
      "######strand specific#####\n",
      "#!qsub -t 42-94 /psc/bioinformatics/sunyd/identify/assemble_strandspec_qsub.sh /psc/bioinformatics/sunyd/identify/tomato_rnaseq/candidate/SRP022911 SRR8630 /psc/bioinformatics/sunyd/genome/solanum_lycopersicum/sly_ITAG2.4.gff3 /psc/bioinformatics/sunyd/genome/solanum_lycopersicum/sly_ITAG2.4_genomic"
     ],
     "language": "python",
     "metadata": {},
     "outputs": [],
     "prompt_number": 2
    },
    {
     "cell_type": "heading",
     "level": 3,
     "metadata": {},
     "source": [
      "2. Identify lncRNAs with machine learning method"
     ]
    },
    {
     "cell_type": "heading",
     "level": 6,
     "metadata": {},
     "source": [
      "Firstly, We merged all samples into one set of transcriptome with cuffcompare. To reduce transcriptional noise, we deleted ambiguous assembled transcripts, which were classified to \u2018j\u2019, \u2018p\u2019, \u2019r\u2019, \u2019s\u2019 categories by Cufflinks. Moreover, we eliminated low-expressed transcripts, which have FPKM values under two in all samples."
     ]
    },
    {
     "cell_type": "code",
     "collapsed": false,
     "input": [
      "#!bash /psc/bioinformatics/sunyd/identify/script/lncrna_prepare.sh /psc/bioinformatics/sunyd/identify/tomato_rnaseq/SRRback/assemble_gtf_listall.txt /psc/bioinformatics/sunyd/genome/solanum_lycopersicum/sly_ITAG2.4.gff3 /psc/bioinformatics/sunyd/genome/solanum_lycopersicum/sly_ITAG2.4.fa /psc/bioinformatics/sunyd/identify/tomato_rnaseq/SRRback 223"
     ],
     "language": "python",
     "metadata": {},
     "outputs": [],
     "prompt_number": 4
    },
    {
     "cell_type": "heading",
     "level": 6,
     "metadata": {},
     "source": [
      "Secondly, we built a Random Forest machine learning classification model to identify lncRNAs"
     ]
    },
    {
     "cell_type": "code",
     "collapsed": false,
     "input": [
      "#!for i in /psc/bioinformatics/sunyd/identify/tomato_rnaseq/SRRback/cuff*.combinedhq.name.fa; do j=`echo $i |cut -d \"/\" -f1-7`; split -d -a 2 -l 2000 $i $j/split_cuff/cuff; cd $j/split_cuff; rename '0' '' cuff0*; done\n",
      "#!qsub -t 1-80 /psc/bioinformatics/sunyd/identify/script/lncrnaml_qsuball_newtrain.sh /psc/bioinformatics/sunyd/identify/tomato_rnaseq/SRRback \n",
      "#!bash /psc/bioinformatics/sunyd/identify/script/lncrna_handle_rfmodel.sh /psc/bioinformatics/sunyd/identify/tomato_rnaseq/SRRback cuff223 /psc/bioinformatics/sunyd/genome/solanum_lycopersicum/sly_ITAG2.4_hkRNA.gff3"
     ],
     "language": "python",
     "metadata": {},
     "outputs": [],
     "prompt_number": 5
    },
    {
     "cell_type": "heading",
     "level": 3,
     "metadata": {},
     "source": [
      "3. Annotate lncRNAs"
     ]
    },
    {
     "cell_type": "heading",
     "level": 6,
     "metadata": {},
     "source": [
      "Firstly, we want to identify repeated element in lncRNAs using RepeatMasker and mirna target and mimic using psRobert"
     ]
    },
    {
     "cell_type": "code",
     "collapsed": false,
     "input": [
      "#!qsub -t 4-17 /psc/bioinformatics/sunyd/identify/script/psrobot.mimic.sh /psc/bioinformatics/sunyd/identify/tomato_rnaseq/SRRback/mirna/mirna.fa /psc/bioinformatics/sunyd/identify/tomato_rnaseq/SRRback/cuff*-CPC_left.lncname.iuox.del.fa /psc/bioinformatics/sunyd/identify/tomato_rnaseq/SRRback/mirna                                                                                          \n",
      "#!bash /psc/bioinformatics/sunyd/identify/script/repeat_mirna.sh /psc/bioinformatics/sunyd/identify/tomato_rnaseq/SRRback cuff223 tomato /psc/bioinformatics/sunyd/genome/solanum_lycopersicum/sly_mirna_miRbase.fa "
     ],
     "language": "python",
     "metadata": {},
     "outputs": [],
     "prompt_number": 6
    },
    {
     "cell_type": "heading",
     "level": 6,
     "metadata": {},
     "source": [
      "Secondly, we calculated lncRNA expression among tissue samples with cuffnorm. We identified tissue-specifc lncRNAs with TCC and stress-responsive lncRNAs with cuffdiff and cummerRbund"
     ]
    },
    {
     "cell_type": "code",
     "collapsed": false,
     "input": [
      "#!bash /psc/bioinformatics/sunyd/identify/script/expression_gtf.sh cuff223 /psc/bioinformatics/sunyd/identify/tomato_rnaseq/SRRback /psc/bioinformatics/sunyd/genome/solanum_lycopersicum/sly_ITAG2.4\n",
      "#!bash /psc/bioinformatics/sunyd/identify/tomato_rnaseq/samplesheet/cuffnorm.sh SRRback\n",
      "#!bash /psc/bioinformatics/sunyd/identify/script/tissue.sh /psc/bioinformatics/sunyd/identify/tomato_rnaseq/SRRback /psc/bioinformatics/sunyd/genome/solanum_lycopersicum/sly_ITAG2.4"
     ],
     "language": "python",
     "metadata": {},
     "outputs": [],
     "prompt_number": 7
    },
    {
     "cell_type": "heading",
     "level": 6,
     "metadata": {},
     "source": [
      "Thirdly, based on expression level, we calculated Pearson correlation coefficient (Pcc) between lncRNA and gene through WGCNA ."
     ]
    },
    {
     "cell_type": "code",
     "collapsed": false,
     "input": [
      "#!wc /psc/bioinformatics/sunyd/identify/tomato_rnaseq/SRRback/cuffnorm.*/isoforms.fpkm_table\n",
      "#!bash /psc/bioinformatics/sunyd/identify/script/coexpression.sh /psc/bioinformatics/sunyd/identify/tomato_rnaseq/SRRback /psc/bioinformatics/sunyd/genome/solanum_lycopersicum/sly_ITAG2.4"
     ],
     "language": "python",
     "metadata": {},
     "outputs": [],
     "prompt_number": 8
    },
    {
     "cell_type": "heading",
     "level": 6,
     "metadata": {},
     "source": [
      "Fourthly, we calculated lncRNA sturcutre using ViennaRNA."
     ]
    },
    {
     "cell_type": "code",
     "collapsed": false,
     "input": [
      "#!bash /psc/bioinformatics/sunyd/identify/script/struc.sh /psc/bioinformatics/sunyd/identify/tomato_rnaseq/SRRback cuff223"
     ],
     "language": "python",
     "metadata": {},
     "outputs": [],
     "prompt_number": 9
    },
    {
     "cell_type": "heading",
     "level": 6,
     "metadata": {},
     "source": [
      "Fifthly, we prepared results for the database"
     ]
    },
    {
     "cell_type": "code",
     "collapsed": false,
     "input": [
      "#!bash /psc/bioinformatics/sunyd/identify/script/database.sh /psc/bioinformatics/sunyd/identify/tomato_rnaseq/SRRback sly cuff223 /psc/bioinformatics/sunyd/genome/solanum_lycopersicum/sly_ITAG2.4.ano.all Solanum_lycopersicum ITAG2.4       ####change the species number\n",
      "#!bash /psc/bioinformatics/sunyd/identify/script/database_stru.sh /psc/bioinformatics/sunyd/identify/tomato_rnaseq/SRRback Sly"
     ],
     "language": "python",
     "metadata": {},
     "outputs": [],
     "prompt_number": 10
    },
    {
     "cell_type": "heading",
     "level": 6,
     "metadata": {},
     "source": [
      "Sixthly, we prepared bam files for JBrowse"
     ]
    },
    {
     "cell_type": "code",
     "collapsed": false,
     "input": [
      "######## tissue merge#####\n",
      "#!mkdir tissue_expression/\n",
      "#!cd tissue_expression/\n",
      "#!for i in `cut -f2 ../cuffnorm_sample_sheet_light.txt |sed '1d' |cut -d_ -f1 |sort -u`; do sed -n \"/$i/p\" ../cuffnorm_sample_sheet_light.txt |cut -f1 |xargs samtools merge -@ 32 ${i}.bam; done            #########bam file comscripte together based on tissues"
     ],
     "language": "python",
     "metadata": {},
     "outputs": [],
     "prompt_number": 11
    },
    {
     "cell_type": "code",
     "collapsed": false,
     "input": [],
     "language": "python",
     "metadata": {},
     "outputs": []
    }
   ],
   "metadata": {}
  }
 ]
}