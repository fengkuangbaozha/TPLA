{
 "metadata": {
  "name": "",
  "signature": "sha256:f6e70e6ff014d813de2a808e74dcbb100cef98382cd864fd310c4bf428899e09"
 },
 "nbformat": 3,
 "nbformat_minor": 0,
 "worksheets": [
  {
   "cells": [
    {
     "cell_type": "heading",
     "level": 1,
     "metadata": {},
     "source": [
      "TPLA -- The plant lncRNA atlas"
     ]
    },
    {
     "cell_type": "heading",
     "level": 5,
     "metadata": {},
     "source": [
      "There are 6 plant species in this database, so we separate into 6 parts"
     ]
    },
    {
     "cell_type": "heading",
     "level": 2,
     "metadata": {},
     "source": [
      "Part Two.  Oryza_sativa"
     ]
    },
    {
     "cell_type": "heading",
     "level": 3,
     "metadata": {},
     "source": [
      "1. Assemble the transcriptome with RNA-seq datasets."
     ]
    },
    {
     "cell_type": "heading",
     "level": 6,
     "metadata": {},
     "source": [
      "we downloaded RNA-seq datasets from NCBI SRA. Cleaned reads with SolexaQA, Cutadapter. Mapped reads to the genome with Tophat. Assembled the transcriptome with Cufflinks."
     ]
    },
    {
     "cell_type": "code",
     "collapsed": false,
     "input": [
      "#######for single end data#######\n",
      "#!qsub -t 28-31 /psc/bioinformatics/sunyd/identify/assemble_qsub.sh /psc/bioinformatics/sunyd/identify/oryza_rnaseq/ERP052306 SRR17615 /psc/bioinformatics/sunyd/genome/oryza/osa_MSU7.gff33 /psc/bioinformatics/sunyd/genome/oryza/osa_MSU7"
     ],
     "language": "python",
     "metadata": {},
     "outputs": [],
     "prompt_number": 1
    },
    {
     "cell_type": "code",
     "collapsed": false,
     "input": [
      "######for paired end data###############\n",
      "#!qsub -t 57 /psc/bioinformatics/sunyd/identify/assemble_pair_qsub.sh /psc/bioinformatics/sunyd/identify/oryza_rnaseq/ERP028766 SRR5052 /psc/bioinformatics/sunyd/genome/oryza/osa_MSU7.gff33 /psc/bioinformatics/sunyd/genome/oryza/osa_MSU7"
     ],
     "language": "python",
     "metadata": {},
     "outputs": [],
     "prompt_number": 2
    },
    {
     "cell_type": "code",
     "collapsed": false,
     "input": [
      "######strand specific#####\n",
      "#!qsub -l hostname=node105 -t 694 /psc/bioinformatics/sunyd/identify/assemble_strandspec_qsub.sh /psc/bioinformatics/sunyd/identify/oryza_rnaseq/ERP000760 ERR037 /psc/bioinformatics/sunyd/genome/oryza/osa_MSU7.gff33 /psc/bioinformatics/sunyd/genome/oryza/osa_MSU7"
     ],
     "language": "python",
     "metadata": {},
     "outputs": [],
     "prompt_number": 3
    },
    {
     "cell_type": "heading",
     "level": 3,
     "metadata": {},
     "source": [
      "2. Identify lncRNAs with machine learning method"
     ]
    },
    {
     "cell_type": "heading",
     "level": 6,
     "metadata": {},
     "source": [
      "Firstly, We merged all samples into one set of transcriptome with cuffcompare. To reduce transcriptional noise, we deleted ambiguous assembled transcripts, which were classified to \u2018j\u2019, \u2018p\u2019, \u2019r\u2019, \u2019s\u2019 categories by Cufflinks. Moreover, we eliminated low-expressed transcripts, which have FPKM values under two in all samples."
     ]
    },
    {
     "cell_type": "code",
     "collapsed": false,
     "input": [
      "#!bash /psc/bioinformatics/sunyd/identify/script/lncrna_prepare.sh /psc/bioinformatics/sunyd/identify/oryza_rnaseq/SRRback/assemble_gtf_listall.txt /psc/bioinformatics/sunyd/genome/oryza_sativa/osa_MSU7.gff3 /psc/bioinformatics/sunyd/genome/oryza_sativa/osa_MSU7.fa /psc/bioinformatics/sunyd/identify/oryza_rnaseq/SRRback 186"
     ],
     "language": "python",
     "metadata": {},
     "outputs": [],
     "prompt_number": 5
    },
    {
     "cell_type": "heading",
     "level": 6,
     "metadata": {},
     "source": [
      "Secondly, we built a Random Forest machine learning classification model to identify lncRNAs"
     ]
    },
    {
     "cell_type": "code",
     "collapsed": false,
     "input": [
      "#!for i in /psc/bioinformatics/sunyd/identify/oryza_rnaseq/SRRback/cuff*.combinedhq.name.fa; do j=`echo $i |cut -d \"/\" -f1-7`; split -d -a 2 -l 2000 $i $j/split_cuff/cuff; cd $j/split_cuff; rename '0' '' cuff0*; done\n",
      "#!qsub -t 1-8 /psc/bioinformatics/sunyd/identify/script/lncrnaml_qsuball_newtrain.sh /psc/bioinformatics/sunyd/identify/oryza_rnaseq/SRRback \n",
      "#!bash /psc/bioinformatics/sunyd/identify/script/lncrna_handle_rfmodel.sh /psc/bioinformatics/sunyd/identify/oryza_rnaseq/SRRback cuff186 /psc/bioinformatics/sunyd/genome/oryza_sativa/tRNAs_osa_GtRNAdb1.bed"
     ],
     "language": "python",
     "metadata": {},
     "outputs": [],
     "prompt_number": 6
    },
    {
     "cell_type": "heading",
     "level": 3,
     "metadata": {},
     "source": [
      "3. Annotate lncRNAs"
     ]
    },
    {
     "cell_type": "heading",
     "level": 6,
     "metadata": {},
     "source": [
      "Firstly, we want to identify repeated element in lncRNAs using RepeatMasker and mirna target and mimic using psRobert"
     ]
    },
    {
     "cell_type": "code",
     "collapsed": false,
     "input": [
      "#!qsub -t 4-17 /psc/bioinformatics/sunyd/identify/script/psrobot.mimic.sh /psc/bioinformatics/sunyd/identify/oryza_rnaseq/SRRback/mirna/mirna.fa /psc/bioinformatics/sunyd/identify/oryza_rnaseq/SRRback/cuff*-CPC_left.lncname.iuox.del.fa /psc/bioinformatics/sunyd/identify/oryza_rnaseq/SRRback/mirna                                                                                          \n",
      "#!bash /psc/bioinformatics/sunyd/identify/script/repeat_mirna.sh /psc/bioinformatics/sunyd/identify/oryza_rnaseq/SRRback cuff186 rice /psc/bioinformatics/sunyd/genome/oryza_sativa/osa_mirna_miRbase.fa "
     ],
     "language": "python",
     "metadata": {},
     "outputs": [],
     "prompt_number": 7
    },
    {
     "cell_type": "heading",
     "level": 6,
     "metadata": {},
     "source": [
      "Secondly, we calculated lncRNA expression among tissue samples with cuffnorm. We identified tissue-specifc lncRNAs with TCC and stress-responsive lncRNAs with cuffdiff and cummerRbund"
     ]
    },
    {
     "cell_type": "code",
     "collapsed": false,
     "input": [
      "#!bash /psc/bioinformatics/sunyd/identify/script/expression_gtf.sh cuff186 /psc/bioinformatics/sunyd/identify/oryza_rnaseq/SRRback /psc/bioinformatics/sunyd/genome/oryza_sativa/osa_MSU7\n",
      "#!bash /psc/bioinformatics/sunyd/identify/oryza_rnaseq/samplesheet/cuffnorm.sh SRRback\n",
      "#!bash /psc/bioinformatics/sunyd/identify/script/tissue.sh /psc/bioinformatics/sunyd/identify/oryza_rnaseq/SRRback /psc/bioinformatics/sunyd/genome/oryza_sativa/osa_MSU7"
     ],
     "language": "python",
     "metadata": {},
     "outputs": [],
     "prompt_number": 8
    },
    {
     "cell_type": "heading",
     "level": 6,
     "metadata": {},
     "source": [
      "Thirdly, based on expression level, we calculated Pearson correlation coefficient (Pcc) between lncRNA and gene through WGCNA ."
     ]
    },
    {
     "cell_type": "code",
     "collapsed": false,
     "input": [
      "#!wc /psc/bioinformatics/sunyd/identify/oryza_rnaseq/SRRback/cuffnorm.*/isoforms.fpkm_table\n",
      "#!bash /psc/bioinformatics/sunyd/identify/script/coexpression.sh /psc/bioinformatics/sunyd/identify/oryza_rnaseq/SRRback /psc/bioinformatics/sunyd/genome/oryza_sativa/osa_MSU7"
     ],
     "language": "python",
     "metadata": {},
     "outputs": [],
     "prompt_number": 9
    },
    {
     "cell_type": "heading",
     "level": 6,
     "metadata": {},
     "source": [
      "Fourthly, we calculated lncRNA sturcutre using ViennaRNA."
     ]
    },
    {
     "cell_type": "code",
     "collapsed": false,
     "input": [
      "#!bash /psc/bioinformatics/sunyd/identify/script/struc.sh /psc/bioinformatics/sunyd/identify/oryza_rnaseq/SRRback cuff186"
     ],
     "language": "python",
     "metadata": {},
     "outputs": [],
     "prompt_number": 10
    },
    {
     "cell_type": "heading",
     "level": 6,
     "metadata": {},
     "source": [
      "Fifthly, we prepared results for the database"
     ]
    },
    {
     "cell_type": "code",
     "collapsed": false,
     "input": [
      "#!bash /psc/bioinformatics/sunyd/identify/script/database.sh /psc/bioinformatics/sunyd/identify/oryza_rnaseq/SRRback osa cuff186 /psc/bioinformatics/sunyd/genome/oryza_sativa/osa_MSU7.ano.all Oryza_sativa MSU7       ####change the species number\n",
      "#!bash /psc/bioinformatics/sunyd/identify/script/database_stru.sh /psc/bioinformatics/sunyd/identify/oryza_rnaseq/SRRback Osa"
     ],
     "language": "python",
     "metadata": {},
     "outputs": [],
     "prompt_number": 11
    },
    {
     "cell_type": "heading",
     "level": 6,
     "metadata": {},
     "source": [
      "Sixthly, we prepared bam files for JBrowse"
     ]
    },
    {
     "cell_type": "code",
     "collapsed": false,
     "input": [
      "######## tissue merge#####\n",
      "#!mkdir -p tissue_expression/\n",
      "#!cd tissue_expression/\n",
      "#!for i in `cut -f2 ../cuffnorm_sample_sheet_tissue.txt |sed '1d' |cut -d_ -f1 |sort -u`; do sed -n \"/\\t$i$/p\" ../cuffnorm_sample_sheet_tissue.txt |cut -f1 |xargs samtools merge -@ 32 ${i}.bam; done            #########bam file comscripte together based on tissues\n",
      "########stress merge#####\n",
      "#!mkdir pi_expression\n",
      "#!for i in `cut -f2 ../cuffnorm_sample_sheet_DRP028766-root-short.txt |sed -n '/21d$/p' |sort -u`; do sed -n \"/$i/p\" ../cuffnorm_sample_sheet_DRP028766-root-short.txt |cut -f1 |xargs samtools merge -@ 32 ${i}.bam; done            #########bam file comscripte together based on tissues\n",
      "#!for i in *.bam; do j=`echo $i |sed 's/bam//g'`; z=`samtools flagstat $i |head -n 1 |awk '{print 1000000/$1}'`; echo $z; genomeCoverageBed -scale $z -ibam $i -bg -g /psc/bioinformatics/sunyd/genome/oryza_sativa/osa_MSU7.fa > ${j}bedGraph; bedGraphToBigWig ${j}bedGraph ~/sunyd/genome/oryza_sativa/osa_MSU7.fa-length.txt ${j}bw; done\n",
      "#!mkdir salt_expression\n",
      "#!for i in `cut -f2 ../cuffnorm_sample_sheet_salt.txt |sed '1d' |sort -u`; do sed -n \"/$i/p\" ../cuffnorm_sample_sheet_salt.txt |cut -f1 |xargs samtools merge -@ 32 ${i}.bam; done            #########bam file comscripte together based on tissues\n",
      "#!cp -r pi_expression database\n",
      "#!cp -r salt_expression database"
     ],
     "language": "python",
     "metadata": {},
     "outputs": [],
     "prompt_number": 1
    },
    {
     "cell_type": "code",
     "collapsed": false,
     "input": [],
     "language": "python",
     "metadata": {},
     "outputs": []
    }
   ],
   "metadata": {}
  }
 ]
}