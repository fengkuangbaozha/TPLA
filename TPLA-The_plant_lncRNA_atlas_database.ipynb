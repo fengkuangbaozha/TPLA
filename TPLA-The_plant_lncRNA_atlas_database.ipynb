{
 "metadata": {
  "name": "",
  "signature": "sha256:080b9e29fd22d759f306eb5a3c4860873f7bcf01ccb82bd89e361d4153d1ceae"
 },
 "nbformat": 3,
 "nbformat_minor": 0,
 "worksheets": [
  {
   "cells": [
    {
     "cell_type": "heading",
     "level": 1,
     "metadata": {},
     "source": [
      "TPLA -- The plant lncRNA atlas"
     ]
    },
    {
     "cell_type": "heading",
     "level": 5,
     "metadata": {},
     "source": [
      "There are 6 plant species in this database, so we combine results together to facilitate building sql table."
     ]
    },
    {
     "cell_type": "heading",
     "level": 3,
     "metadata": {},
     "source": [
      "1. Identify stress-responsive lncRNAs with cummeRbund"
     ]
    },
    {
     "cell_type": "code",
     "collapsed": false,
     "input": [
      "#!bash /psc/bioinformatics/sunyd/identify/script/stress.sh"
     ],
     "language": "python",
     "metadata": {},
     "outputs": [],
     "prompt_number": 1
    },
    {
     "cell_type": "heading",
     "level": 3,
     "metadata": {},
     "source": [
      "2. Copy all results into one direcotry"
     ]
    },
    {
     "cell_type": "code",
     "collapsed": false,
     "input": [
      "#!cd ~/sunyd/identify/\n",
      "#!for i in */SRRback/database/txt/*.basic.txt; do awk '{if($5==\"intergenic\") {OFS=\"\\t\"; print $1,$2,$3,$4,$5,$6,$7,$8,$9,$10,$11,$12,\"NONE\",\"NONE\",\"NONE\";} else {OFS=\"\\t\"; print $0;}}' $i > ${i}1; mv ${i}1 $i; done   #######revise intergenic info##########\n",
      "#!cd ~/sunyd/TPLA/volume/raw_data\n",
      "#!bash cp_update.sh SRRback\n",
      "#!bash install_gff3_fa.sh\n",
      "#!bash install_lncrna_db.sh\n",
      "#!bash install_tables.sh\n",
      "#!bash install_struc_update.sh SRRback"
     ],
     "language": "python",
     "metadata": {},
     "outputs": [],
     "prompt_number": 3
    },
    {
     "cell_type": "heading",
     "level": 3,
     "metadata": {},
     "source": [
      "3. Prepare Histone ChIP-seq datasets"
     ]
    },
    {
     "cell_type": "heading",
     "level": 6,
     "metadata": {},
     "source": [
      "Firstly, we downloaded ChIP-seq data from GEO"
     ]
    },
    {
     "cell_type": "code",
     "collapsed": false,
     "input": [
      "########Chip datasets ##########\n",
      "#!for i in *.tar; do j=`echo $i |cut -d_ -f1`; mkdir $j; tar xvf $i -C $j; chmod +x $j/*; done"
     ],
     "language": "python",
     "metadata": {},
     "outputs": [],
     "prompt_number": 4
    },
    {
     "cell_type": "heading",
     "level": 6,
     "metadata": {},
     "source": [
      "Secondly, Arabidopsis ChIP-seq"
     ]
    },
    {
     "cell_type": "code",
     "collapsed": false,
     "input": [
      "#!cd ~/sunyd/identify/chip/GSE53620\n",
      "#!macs14 -t GSM1296932_wt_H3K27me3.r1.bed -c GSM1296940_wt_input.bed -f BED -n wt_H3K27me3_r1 --nomodel -p 0.05 -w -S\n",
      "#!macs14 -t GSM1296933_wt_H3K27me3.r2.bed -c GSM1296940_wt_input.bed -f BED -n wt_H3K27me3_r2 --nomodel -p 0.05 -w -S\n",
      "#!for i in *_wiggle/*/*.gz; do j=`echo $i |rev |cut -d \"/\" -f1 |rev |cut -d_ -f2-4 |sed 's/control/Input/g' |sed 's/treat/ChIP/g' |awk -F\"_\" '{OFS=\"_\"; print $1,$3,$2}' |sed 's/r/rep/g'`; zcat $i |sed 's/=Chr/=/g' |wigToBigWig -clip stdin /psc/bioinformatics/sunyd/genome/arabidopsis_thaliana/ath_TAIR10.fa-length.txt ${j}.bw; done\n",
      "\n",
      "#!cd ~/sunyd/identify/chip/GSE67776\n",
      "#!for i in *.bedGraph; do j=`echo $i |cut -d_ -f2-4`; sed 's/Chr//g' $i > ${i}.tmp; bedGraphToBigWig ${i}.tmp /psc/bioinformatics/sunyd/genome/arabidopsis_thaliana/ath_TAIR10.fa-length.txt ${j}.bw; rm ${i}.tmp; done\n",
      "\n",
      "#!cd ~/sunyd/identify/chip/GSE49090\n",
      "#!zcat GSM1193608_110801_ChIPseq_H3K4m2_Col_sib_cap-No_Sibs_unique_only-TRUE.wig.gz |sed '/track type/d' |sed 's/=chr/=/g' |wigToBigWig -clip stdin /psc/bioinformatics/sunyd/genome/arabidopsis_thaliana/ath_TAIR10.fa-length.txt H3K4m2_ChIP_rep1.bw\n",
      "#!zcat GSM1193616_130712_ChIPseq_H3K4m2_Col_sib_cap-No_Sibs_unique_only-TRUE.wig.gz |sed '/track type/d' |sed 's/=chr/=/g' |wigToBigWig -clip stdin /psc/bioinformatics/sunyd/genome/arabidopsis_thaliana/ath_TAIR10.fa-length.txt H3K4m2_ChIP_rep2.bw\n",
      "#!zcat GSM1193612_110801_ChIPseq_H3K4m3_Col_sib_cap-No_Sibs_unique_only-TRUE.wig.gz |sed '/track type/d' |sed 's/=chr/=/g' |wigToBigWig -clip stdin /psc/bioinformatics/sunyd/genome/arabidopsis_thaliana/ath_TAIR10.fa-length.txt H3K4m3_ChIP_rep1.bw\n",
      "#!zcat GSM1193621_130712_ChIPseq_H3K4m3_Col_sib_cap-No_Sibs_unique_only-TRUE.wig.gz |sed '/track type/d' |sed 's/=chr/=/g' |wigToBigWig -clip stdin /psc/bioinformatics/sunyd/genome/arabidopsis_thaliana/ath_TAIR10.fa-length.txt H3K4m3_ChIP_rep2.bw\n",
      "#!zcat GSM1193626_Input_Col.wig.gz |sed '/track type/d' |sed 's/=chr/=/g' |wigToBigWig -clip stdin /psc/bioinformatics/sunyd/genome/arabidopsis_thaliana/ath_TAIR10.fa-length.txt H3K4m3_Input.bw"
     ],
     "language": "python",
     "metadata": {},
     "outputs": [],
     "prompt_number": 5
    },
    {
     "cell_type": "heading",
     "level": 6,
     "metadata": {},
     "source": [
      "Thirdly, Oryza ChIP-seq"
     ]
    },
    {
     "cell_type": "code",
     "collapsed": false,
     "input": [
      "#!cd ~/sunyd/identify/chip/GSE68299\n",
      "#!for i in H3*.wig; do j=`echo $i |cut -d \".\" -f1`; wigToBigWig -clip <(sed '/track type/d' $i) /psc/bioinformatics/sunyd/genome/oryza_sativa/osa_MSU7.fa-length.txt ${j}.bw; done"
     ],
     "language": "python",
     "metadata": {},
     "outputs": [],
     "prompt_number": 6
    },
    {
     "cell_type": "heading",
     "level": 6,
     "metadata": {},
     "source": [
      "Fourthly, Zea mays ChIP-seq"
     ]
    },
    {
     "cell_type": "code",
     "collapsed": false,
     "input": [
      "#!qsub -t 386-403 ~/sunyd/identify/script/chip_bowtie.sh /psc/bioinformatics/sunyd/genome/zea_mays/zma_AGPv2.17 ~/sunyd/identify/maize_rnaseq/maize_chip SRR029\n",
      "#!for i in chip*.e*; do sed -n '/# reads with at least one reported alignment/p' $i >> tmp; done\n",
      "#!paste <(ls SRR*.sra |cut -d \".\" -f1) tmp |sed 's/# reads with at least one reported alignment://g'> align.txt\n",
      "#!paste <(ls /psc/bioinformatics/sunyd/identify/maize_rnaseq/maize_chip/SRR*/*.bam) maize_chip.txt |cut -f1,4 > cuffnorm_sample_sheet.txt\n",
      "#!mkdir chip.expression\n",
      "#!for i in `cut -f2 ../cuffnorm_sample_sheet.txt |sort -u`; do sed -n \"/$i/p\" ../cuffnorm_sample_sheet.txt |cut -f1 |xargs samtools merge -@ 32 ${i}.bam; done\n",
      "#!for i in `sed 's/\\t/,/g' ../tmp |cat`; do j=`echo $i |cut -d, -f1`; z=`echo $i |cut -d, -f2 |sed 's/\\r//g'`; cp $j ${z}.bam; done\n",
      "#!cd ~/sunyd/identify/maize_rnaseq/maize_chip\n",
      "#!for i in 29385; do j=`echo \"$i+1\" |bc`; macs14 -t SRR0${j}/SRR0${j}.bam -c SRR0${i}/SRR0${i}.bam -f BAM -n H3K4me3_shoot --nomodel -g 2066432718 -p 0.05 -w -S; done\n",
      "#\uff01for i in 29387; do j=`echo \"$i+1\" |bc`; macs14 -t SRR0${j}/SRR0${j}.bam -c SRR0${i}/SRR0${i}.bam -f BAM -n H3K7ac_shoot --nomodel -g 2066432718 -p 0.05 -w -S; done\n",
      "#\uff01for i in 29389; do j=`echo \"$i+1\" |bc`; macs14 -t SRR0${j}/SRR0${j}.bam -c SRR0${i}/SRR0${i}.bam -f BAM -n H3K27me3_shoot --nomodel -g 2066432718 -p 0.05 -w -S; done\n",
      "#\uff01for i in 29391; do j=`echo \"$i+1\" |bc`; macs14 -t SRR0${j}/SRR0${j}.bam -c SRR0${i}/SRR0${i}.bam -f BAM -n H3K36me3_shoot --nomodel -g 2066432718 -p 0.05 -w -S; done\n",
      "#\uff01for i in 29396; do j=`echo \"$i+1\" |bc`; macs14 -t SRR0${j}/SRR0${j}.bam -c SRR0${i}/SRR0${i}.bam -f BAM -n H3K4me3_root --nomodel -g 2066432718 -p 0.05 -w -S; done\n",
      "#\uff01for i in 29398; do j=`echo \"$i+1\" |bc`; macs14 -t SRR0${j}/SRR0${j}.bam -c SRR0${i}/SRR0${i}.bam -f BAM -n H3K7ac_root --nomodel -g 2066432718 -p 0.05 -w -S; done\n",
      "#\uff01for i in 29400; do j=`echo \"$i+1\" |bc`; macs14 -t SRR0${j}/SRR0${j}.bam -c SRR0${i}/SRR0${i}.bam -f BAM -n H3K27me3_root --nomodel -g 2066432718 -p 0.05 -w -S; done\n",
      "#\uff01for i in 29402; do j=`echo \"$i+1\" |bc`; macs14 -t SRR0${j}/SRR0${j}.bam -c SRR0${i}/SRR0${i}.bam -f BAM -n H3K36me3_root --nomodel -g 2066432718 -p 0.05 -w -S; done\n",
      "#\uff01cp -r *_shoot_MACS_wiggle ~/sunyd/identify/chip/GSE15286\n",
      "#\uff01cd ~/sunyd/identify/chip/GSE15286\n",
      "#\uff01for i in *shoot_MACS_wiggle/*/*.gz; do j=`echo $i |rev |cut -d \"/\" -f1 |rev |cut -d_ -f1,3 |sed 's/control/Input/g' |sed 's/treat/ChIP/g'`; zcat $i |sed '/track type/d' |wigToBigWig -clip stdin /psc/bioinformatics/sunyd/genome/zea_mays/zma_AGPv2.17.fa-length.txt ${j}.bw; done\n"
     ],
     "language": "python",
     "metadata": {},
     "outputs": [],
     "prompt_number": 7
    },
    {
     "cell_type": "code",
     "collapsed": false,
     "input": [],
     "language": "python",
     "metadata": {},
     "outputs": []
    }
   ],
   "metadata": {}
  }
 ]
}