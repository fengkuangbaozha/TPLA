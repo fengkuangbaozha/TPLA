{
 "metadata": {
  "name": "",
  "signature": "sha256:6aa6799d96e88417bae4fc8c51ae46944fe9a380d92e0bbb46d08f33845b44b6"
 },
 "nbformat": 3,
 "nbformat_minor": 0,
 "worksheets": [
  {
   "cells": [
    {
     "cell_type": "heading",
     "level": 1,
     "metadata": {},
     "source": [
      "TPLA -- The plant lncRNA atlas"
     ]
    },
    {
     "cell_type": "heading",
     "level": 4,
     "metadata": {},
     "source": [
      "Abstract: Long non-coding RNAs (lncRNAs) have been shown to play significant roles in various biological processes and been found in the genomes of many species. We constructed a comprehensive database specifically for plant lncRNAs to share lncRNA information with plant research community. Here we developed a machine learning based framework for the discovery of plant lncRNAs, which was applied to 879 public RNA-Seq datasets from Arabidopsis, rice, maize, soybean, tomato and cucumber. We identified 127,201 candidate lncRNAs and predicted the function of some lncRNAs based on their co-expressions with protein-coding genes. Through a user-friendly web interface, users can search for lncRNA sequences, genomic location, coding potential score, neighboring protein coding genes, co-expressed genes, expression levels in various tissues and stress conditions. In addition, users can submit their own sequences for novel lncRNA identification. TPLA is accessible through the website http://tpla.psc.ac.cn."
     ]
    },
    {
     "cell_type": "heading",
     "level": 4,
     "metadata": {},
     "source": [
      "Pipeline: There are 6 plant species in this database, so we separate into 6 parts. For each part: Firstly, we assembled the transcriptome with RNAseq datasets. Secondly, we identify lncRNAs with machine learning method intergrated pipeline. Thirdly, we annotate lncRNAs, including repeat elements, miRNA targets and target mimics, structure, tissue specific, stress responsive, co-expressed genes and histone modification sites."
     ]
    },
    {
     "cell_type": "heading",
     "level": 2,
     "metadata": {},
     "source": [
      "Part One.  Arabidopsis_thaliana"
     ]
    },
    {
     "cell_type": "heading",
     "level": 3,
     "metadata": {},
     "source": [
      "1. Assemble the transcriptome with RNA-seq datasets."
     ]
    },
    {
     "cell_type": "heading",
     "level": 6,
     "metadata": {},
     "source": [
      "we downloaded RNA-seq datasets from NCBI SRA. Cleaned reads with SolexaQA, Cutadapter. Mapped reads to the genome with Tophat. Assembled the transcriptome with Cufflinks."
     ]
    },
    {
     "cell_type": "code",
     "collapsed": false,
     "input": [
      "#######for single end data#######\n",
      "#!qsub -t 69-74 /psc/bioinformatics/sunyd/identify/assemble_qsub.sh /psc/bioinformatics/sunyd/identify/arab_rnaseq/SRP046088 SRR15644 /psc/bioinformatics/sunyd/genome/arabidopsis_thaliana/ath_TAIR10.gff3 /psc/bioinformatics/sunyd/genome/arabidopsis_thaliana/ath_TAIR10"
     ],
     "language": "python",
     "metadata": {},
     "outputs": [],
     "prompt_number": 1
    },
    {
     "cell_type": "code",
     "collapsed": false,
     "input": [
      "######strand specific#####\n",
      "#!qsub -t 29-88 /psc/bioinformatics/sunyd/identify/assemble_strandspec_qsub.sh /psc/bioinformatics/sunyd/identify/arab_rnaseq/SRP017386 SRR6276 /psc/bioinformatics/sunyd/genome/arabidopsis_thaliana/ath_TAIR10.gff3 /psc/bioinformatics/sunyd/genome/arabidopsis_thaliana/ath_TAIR10"
     ],
     "language": "python",
     "metadata": {},
     "outputs": [],
     "prompt_number": 2
    },
    {
     "cell_type": "heading",
     "level": 3,
     "metadata": {},
     "source": [
      "2. Identify lncRNAs with machine learning method."
     ]
    },
    {
     "cell_type": "heading",
     "level": 6,
     "metadata": {},
     "source": [
      "Firstly, We merged all samples into one set of transcriptome with cuffcompare. To reduce transcriptional noise, we deleted ambiguous assembled transcripts, which were classified to \u2018j\u2019, \u2018p\u2019, \u2019r\u2019, \u2019s\u2019 categories by Cufflinks. Moreover, we eliminated low-expressed transcripts, which have FPKM values under two in all samples."
     ]
    },
    {
     "cell_type": "code",
     "collapsed": false,
     "input": [
      "#!bash /psc/bioinformatics/sunyd/identify/script/lncrna_prepare.sh /psc/bioinformatics/sunyd/identify/arab_rnaseq/SRRback/assemble_gtf_listall.txt /psc/bioinformatics/sunyd/genome/arabidopsis_thaliana/ath_TAIR10.gff3 /psc/bioinformatics/sunyd/genome/arabidopsis_thaliana/ath_TAIR10.fa /psc/bioinformatics/sunyd/identify/arab_rnaseq/SRRback 153"
     ],
     "language": "python",
     "metadata": {},
     "outputs": [],
     "prompt_number": 3
    },
    {
     "cell_type": "heading",
     "level": 6,
     "metadata": {},
     "source": [
      "Secondly, we built a Random Forest machine learning classification model to identify lncRNAs."
     ]
    },
    {
     "cell_type": "code",
     "collapsed": false,
     "input": [
      "#!for i in /psc/bioinformatics/sunyd/identify/arab_rnaseq/SRRback/cuff*.combinedhq.name.fa; do j=`echo $i |cut -d \\\"/\\\" -f1-7`; split -d -a 2 -l 2000 $i $j/split_cuff/cuff; cd $j/split_cuff; rename '0' '' cuff0*; done\\n\n",
      "#!qsub -t 1-80 /psc/bioinformatics/sunyd/identify/script/lncrnaml_qsuball_newtrain.sh /psc/bioinformatics/sunyd/identify/arab_rnaseq/SRRback\n",
      "#!bash /psc/bioinformatics/sunyd/identify/script/lncrna_handle_rfmodel.sh /psc/bioinformatics/sunyd/identify/arab_rnaseq/SRRback cuff153 /psc/bioinformatics/sunyd/genome/arabidopsis_thaliana/ath_TAIR10_hkRNA.gtf"
     ],
     "language": "python",
     "metadata": {},
     "outputs": [],
     "prompt_number": 4
    },
    {
     "cell_type": "heading",
     "level": 3,
     "metadata": {},
     "source": [
      "3. Annotate lncRNAs."
     ]
    },
    {
     "cell_type": "heading",
     "level": 6,
     "metadata": {},
     "source": [
      "Firstly, we want to identify repeated element in lncRNAs using RepeatMasker and mirna target and mimic using psRobert."
     ]
    },
    {
     "cell_type": "code",
     "collapsed": false,
     "input": [
      "#!qsub -t 4-17 /psc/bioinformatics/sunyd/identify/script/psrobot.mimic.sh /psc/bioinformatics/sunyd/identify/arab_rnaseq/SRRback/mirna/mirna.fa /psc/bioinformatics/sunyd/identify/arab_rnaseq/SRRback/cuff*-CPC_left.lncname.iuox.del.fa /psc/bioinformatics/sunyd/identify/arab_rnaseq/SRRback/mirna\n",
      "#!bash /psc/bioinformatics/sunyd/identify/script/repeat_mirna.sh /psc/bioinformatics/sunyd/identify/arab_rnaseq/SRRback cuff153 arabidopsis /psc/bioinformatics/sunyd/genome/arabidopsis_thaliana/ath_mirna_miRbase.fa"
     ],
     "language": "python",
     "metadata": {},
     "outputs": [],
     "prompt_number": 5
    },
    {
     "cell_type": "heading",
     "level": 6,
     "metadata": {},
     "source": [
      "Secondly, we calculated lncRNA expression among tissue samples with cuffnorm. We identified tissue-specifc lncRNAs with TCC and stress-responsive lncRNAs with cuffdiff and cummerRbund."
     ]
    },
    {
     "cell_type": "code",
     "collapsed": false,
     "input": [
      "#!bash /psc/bioinformatics/sunyd/identify/script/expression_gtf.sh cuff153 /psc/bioinformatics/sunyd/identify/arab_rnaseq/SRRback /psc/bioinformatics/sunyd/genome/arabidopsis_thaliana/ath_TAIR10\n",
      "#!bash /psc/bioinformatics/sunyd/identify/arab_rnaseq/samplesheet/cuffnorm.sh SRRback\n",
      "#!bash /psc/bioinformatics/sunyd/identify/script/tissue.sh /psc/bioinformatics/sunyd/identify/arab_rnaseq/SRRback /psc/bioinformatics/sunyd/genome/arabidopsis_thaliana/ath_TAIR10"
     ],
     "language": "python",
     "metadata": {},
     "outputs": [],
     "prompt_number": 6
    },
    {
     "cell_type": "heading",
     "level": 6,
     "metadata": {},
     "source": [
      "Thirdly, based on expression level, we calculated Pearson correlation coefficient (Pcc) between lncRNA and gene through WGCNA."
     ]
    },
    {
     "cell_type": "code",
     "collapsed": false,
     "input": [
      "#!wc /psc/bioinformatics/sunyd/identify/arab_rnaseq/SRRback/cuffnorm.*/isoforms.fpkm_table\n",
      "#!bash /psc/bioinformatics/sunyd/identify/script/coexpression.sh /psc/bioinformatics/sunyd/identify/arab_rnaseq/SRRback /psc/bioinformatics/sunyd/genome/arabidopsis_thaliana/ath_TAIR10"
     ],
     "language": "python",
     "metadata": {},
     "outputs": [],
     "prompt_number": 7
    },
    {
     "cell_type": "heading",
     "level": 6,
     "metadata": {},
     "source": [
      "Fourthly, we calculated lncRNA sturcutre using ViennaRNA."
     ]
    },
    {
     "cell_type": "code",
     "collapsed": false,
     "input": [
      "#!bash /psc/bioinformatics/sunyd/identify/script/struc.sh /psc/bioinformatics/sunyd/identify/arab_rnaseq/SRRback cuff153"
     ],
     "language": "python",
     "metadata": {},
     "outputs": [],
     "prompt_number": 8
    },
    {
     "cell_type": "heading",
     "level": 6,
     "metadata": {},
     "source": [
      "Fifthly, we prepared results for the database."
     ]
    },
    {
     "cell_type": "code",
     "collapsed": false,
     "input": [
      "#!bash /psc/bioinformatics/sunyd/identify/script/database.sh /psc/bioinformatics/sunyd/identify/arab_rnaseq/SRRback ath cuff153 /psc/bioinformatics/sunyd/genome/arabidopsis_thaliana/ath_TAIR10.ano.all Arabidopsis_thaliana TAIR10\n",
      "#!bash /psc/bioinformatics/sunyd/identify/script/database_stru.sh /psc/bioinformatics/sunyd/identify/arab_rnaseq/SRRback Ath"
     ],
     "language": "python",
     "metadata": {},
     "outputs": [],
     "prompt_number": 9
    },
    {
     "cell_type": "heading",
     "level": 6,
     "metadata": {},
     "source": [
      "Sixthly, we prepared bam files for JBrowse."
     ]
    },
    {
     "cell_type": "code",
     "collapsed": false,
     "input": [
      "######## tissue merge#####\n",
      "#!mkdir -p ~/sunyd/identify/arab_rnaseq/SRRfix/tissue_expression\n",
      "#!cd ~/sunyd/identify/arab_rnaseq/SRRfix/tissue_expression/\n",
      "#!for i in `cut -f2 ../cuffnorm_sample_sheet_tissue.txt |sed '1d' |cut -d_ -f1 |sort -u`; do sed -n \\\"/\\\\t$i$/p\\\" ../cuffnorm_sample_sheet_tissue.txt |cut -f1 |xargs samtools merge -@ 32 ${i}.bam; done            #########bam file comscripte together based on tissues\n",
      "########stress merge#####\n",
      "#!mkdir cold_expression\n",
      "#!for i in `cut -f2 ../cuffnorm_sample_sheet_cold.txt |sed '1d' |sort -u`; do sed -n \\\"/$i/p\\\" ../cuffnorm_sample_sheet_cold.txt |cut -f1 |xargs samtools merge -@ 32 ${i}.bam; done            #########bam file comscripte together based on tissues\n",
      "#!mkdir heat_expression\n",
      "#!for i in `cut -f2 ../cuffnorm_sample_sheet_heat.txt |sed '1d' |sort -u`; do sed -n \\\"/$i/p\\\" ../cuffnorm_sample_sheet_heat.txt |cut -f1 |xargs samtools merge -@ 32 ${i}.bam; done            #########bam file comscripte together based on tissues\n",
      "#!mkdir light_expression\n",
      "#!for i in `cut -f2 ../cuffnorm_sample_sheet_light.txt |sed '1d' |sort -u`; do sed -n \\\"/$i/p\\\" ../cuffnorm_sample_sheet_light.txt |cut -f1 |xargs samtools merge -@ 32 ${i}.bam; done            #########bam file comscripte together based on tissues\n",
      "#!cp -r cold_expression database\n",
      "#!cp -r heat_expression database\n",
      "#!cp -r light_expression database"
     ],
     "language": "python",
     "metadata": {},
     "outputs": [],
     "prompt_number": 11
    },
    {
     "cell_type": "heading",
     "level": 2,
     "metadata": {},
     "source": [
      "Part Two.  Oryza_sativa"
     ]
    },
    {
     "cell_type": "heading",
     "level": 3,
     "metadata": {},
     "source": [
      "1. Assemble the transcriptome with RNA-seq datasets."
     ]
    },
    {
     "cell_type": "heading",
     "level": 6,
     "metadata": {},
     "source": [
      "we downloaded RNA-seq datasets from NCBI SRA. Cleaned reads with SolexaQA, Cutadapter. Mapped reads to the genome with Tophat. Assembled the transcriptome with Cufflinks."
     ]
    },
    {
     "cell_type": "code",
     "collapsed": false,
     "input": [
      "#######for single end data#######\n",
      "#!qsub -t 28-31 /psc/bioinformatics/sunyd/identify/assemble_qsub.sh /psc/bioinformatics/sunyd/identify/oryza_rnaseq/ERP052306 SRR17615 /psc/bioinformatics/sunyd/genome/oryza/osa_MSU7.gff33 /psc/bioinformatics/sunyd/genome/oryza/osa_MSU7"
     ],
     "language": "python",
     "metadata": {},
     "outputs": [],
     "prompt_number": 1
    },
    {
     "cell_type": "code",
     "collapsed": false,
     "input": [
      "######for paired end data###############\n",
      "#!qsub -t 57 /psc/bioinformatics/sunyd/identify/assemble_pair_qsub.sh /psc/bioinformatics/sunyd/identify/oryza_rnaseq/ERP028766 SRR5052 /psc/bioinformatics/sunyd/genome/oryza/osa_MSU7.gff33 /psc/bioinformatics/sunyd/genome/oryza/osa_MSU7"
     ],
     "language": "python",
     "metadata": {},
     "outputs": [],
     "prompt_number": 2
    },
    {
     "cell_type": "code",
     "collapsed": false,
     "input": [
      "######strand specific#####\n",
      "#!qsub -l hostname=node105 -t 694 /psc/bioinformatics/sunyd/identify/assemble_strandspec_qsub.sh /psc/bioinformatics/sunyd/identify/oryza_rnaseq/ERP000760 ERR037 /psc/bioinformatics/sunyd/genome/oryza/osa_MSU7.gff33 /psc/bioinformatics/sunyd/genome/oryza/osa_MSU7"
     ],
     "language": "python",
     "metadata": {},
     "outputs": [],
     "prompt_number": 3
    },
    {
     "cell_type": "heading",
     "level": 3,
     "metadata": {},
     "source": [
      "2. Identify lncRNAs with machine learning method."
     ]
    },
    {
     "cell_type": "heading",
     "level": 6,
     "metadata": {},
     "source": [
      "Firstly, We merged all samples into one set of transcriptome with cuffcompare. To reduce transcriptional noise, we deleted ambiguous assembled transcripts, which were classified to \u2018j\u2019, \u2018p\u2019, \u2019r\u2019, \u2019s\u2019 categories by Cufflinks. Moreover, we eliminated low-expressed transcripts, which have FPKM values under two in all samples."
     ]
    },
    {
     "cell_type": "code",
     "collapsed": false,
     "input": [
      "#!bash /psc/bioinformatics/sunyd/identify/script/lncrna_prepare.sh /psc/bioinformatics/sunyd/identify/oryza_rnaseq/SRRback/assemble_gtf_listall.txt /psc/bioinformatics/sunyd/genome/oryza_sativa/osa_MSU7.gff3 /psc/bioinformatics/sunyd/genome/oryza_sativa/osa_MSU7.fa /psc/bioinformatics/sunyd/identify/oryza_rnaseq/SRRback 186"
     ],
     "language": "python",
     "metadata": {},
     "outputs": [],
     "prompt_number": 4
    },
    {
     "cell_type": "heading",
     "level": 6,
     "metadata": {},
     "source": [
      "Secondly, we built a Random Forest machine learning classification model to identify lncRNAs."
     ]
    },
    {
     "cell_type": "code",
     "collapsed": false,
     "input": [
      "#!for i in /psc/bioinformatics/sunyd/identify/oryza_rnaseq/SRRback/cuff*.combinedhq.name.fa; do j=`echo $i |cut -d \"/\" -f1-7`; split -d -a 2 -l 2000 $i $j/split_cuff/cuff; cd $j/split_cuff; rename '0' '' cuff0*; done\n",
      "#!qsub -t 1-8 /psc/bioinformatics/sunyd/identify/script/lncrnaml_qsuball_newtrain.sh /psc/bioinformatics/sunyd/identify/oryza_rnaseq/SRRback \n",
      "#!bash /psc/bioinformatics/sunyd/identify/script/lncrna_handle_rfmodel.sh /psc/bioinformatics/sunyd/identify/oryza_rnaseq/SRRback cuff186 /psc/bioinformatics/sunyd/genome/oryza_sativa/tRNAs_osa_GtRNAdb1.bed"
     ],
     "language": "python",
     "metadata": {},
     "outputs": [],
     "prompt_number": 5
    },
    {
     "cell_type": "heading",
     "level": 3,
     "metadata": {},
     "source": [
      "3. Annotate lncRNAs."
     ]
    },
    {
     "cell_type": "heading",
     "level": 6,
     "metadata": {},
     "source": [
      "Firstly, we want to identify repeated element in lncRNAs using RepeatMasker and mirna target and mimic using psRobert."
     ]
    },
    {
     "cell_type": "code",
     "collapsed": false,
     "input": [
      "#!qsub -t 4-17 /psc/bioinformatics/sunyd/identify/script/psrobot.mimic.sh /psc/bioinformatics/sunyd/identify/oryza_rnaseq/SRRback/mirna/mirna.fa /psc/bioinformatics/sunyd/identify/oryza_rnaseq/SRRback/cuff*-CPC_left.lncname.iuox.del.fa /psc/bioinformatics/sunyd/identify/oryza_rnaseq/SRRback/mirna                                                                                          \n",
      "#!bash /psc/bioinformatics/sunyd/identify/script/repeat_mirna.sh /psc/bioinformatics/sunyd/identify/oryza_rnaseq/SRRback cuff186 rice /psc/bioinformatics/sunyd/genome/oryza_sativa/osa_mirna_miRbase.fa "
     ],
     "language": "python",
     "metadata": {},
     "outputs": [],
     "prompt_number": 6
    },
    {
     "cell_type": "heading",
     "level": 6,
     "metadata": {},
     "source": [
      "Secondly, we calculated lncRNA expression among tissue samples with cuffnorm. We identified tissue-specifc lncRNAs with TCC and stress-responsive lncRNAs with cuffdiff and cummerRbund."
     ]
    },
    {
     "cell_type": "code",
     "collapsed": false,
     "input": [
      "#!bash /psc/bioinformatics/sunyd/identify/script/expression_gtf.sh cuff186 /psc/bioinformatics/sunyd/identify/oryza_rnaseq/SRRback /psc/bioinformatics/sunyd/genome/oryza_sativa/osa_MSU7\n",
      "#!bash /psc/bioinformatics/sunyd/identify/oryza_rnaseq/samplesheet/cuffnorm.sh SRRback\n",
      "#!bash /psc/bioinformatics/sunyd/identify/script/tissue.sh /psc/bioinformatics/sunyd/identify/oryza_rnaseq/SRRback /psc/bioinformatics/sunyd/genome/oryza_sativa/osa_MSU7"
     ],
     "language": "python",
     "metadata": {},
     "outputs": [],
     "prompt_number": 7
    },
    {
     "cell_type": "heading",
     "level": 6,
     "metadata": {},
     "source": [
      "Thirdly, based on expression level, we calculated Pearson correlation coefficient (Pcc) between lncRNA and gene through WGCNA ."
     ]
    },
    {
     "cell_type": "code",
     "collapsed": false,
     "input": [
      "#!wc /psc/bioinformatics/sunyd/identify/oryza_rnaseq/SRRback/cuffnorm.*/isoforms.fpkm_table\n",
      "#!bash /psc/bioinformatics/sunyd/identify/script/coexpression.sh /psc/bioinformatics/sunyd/identify/oryza_rnaseq/SRRback /psc/bioinformatics/sunyd/genome/oryza_sativa/osa_MSU7"
     ],
     "language": "python",
     "metadata": {},
     "outputs": [],
     "prompt_number": 8
    },
    {
     "cell_type": "heading",
     "level": 6,
     "metadata": {},
     "source": [
      "Fourthly, we calculated lncRNA sturcutre using ViennaRNA."
     ]
    },
    {
     "cell_type": "code",
     "collapsed": false,
     "input": [
      "#!bash /psc/bioinformatics/sunyd/identify/script/struc.sh /psc/bioinformatics/sunyd/identify/oryza_rnaseq/SRRback cuff186"
     ],
     "language": "python",
     "metadata": {},
     "outputs": [],
     "prompt_number": 9
    },
    {
     "cell_type": "heading",
     "level": 6,
     "metadata": {},
     "source": [
      "Fifthly, we prepared results for the database."
     ]
    },
    {
     "cell_type": "code",
     "collapsed": false,
     "input": [
      "#!bash /psc/bioinformatics/sunyd/identify/script/database.sh /psc/bioinformatics/sunyd/identify/oryza_rnaseq/SRRback osa cuff186 /psc/bioinformatics/sunyd/genome/oryza_sativa/osa_MSU7.ano.all Oryza_sativa MSU7       ####change the species number\n",
      "#!bash /psc/bioinformatics/sunyd/identify/script/database_stru.sh /psc/bioinformatics/sunyd/identify/oryza_rnaseq/SRRback Osa"
     ],
     "language": "python",
     "metadata": {},
     "outputs": [],
     "prompt_number": 10
    },
    {
     "cell_type": "heading",
     "level": 6,
     "metadata": {},
     "source": [
      "Sixthly, we prepared bam files for JBrowse."
     ]
    },
    {
     "cell_type": "code",
     "collapsed": false,
     "input": [
      "######## tissue merge#####\n",
      "#!mkdir -p tissue_expression/\n",
      "#!cd tissue_expression/\n",
      "#!for i in `cut -f2 ../cuffnorm_sample_sheet_tissue.txt |sed '1d' |cut -d_ -f1 |sort -u`; do sed -n \"/\\t$i$/p\" ../cuffnorm_sample_sheet_tissue.txt |cut -f1 |xargs samtools merge -@ 32 ${i}.bam; done            #########bam file comscripte together based on tissues\n",
      "########stress merge#####\n",
      "#!mkdir pi_expression\n",
      "#!for i in `cut -f2 ../cuffnorm_sample_sheet_DRP028766-root-short.txt |sed -n '/21d$/p' |sort -u`; do sed -n \"/$i/p\" ../cuffnorm_sample_sheet_DRP028766-root-short.txt |cut -f1 |xargs samtools merge -@ 32 ${i}.bam; done            #########bam file comscripte together based on tissues\n",
      "#!for i in *.bam; do j=`echo $i |sed 's/bam//g'`; z=`samtools flagstat $i |head -n 1 |awk '{print 1000000/$1}'`; echo $z; genomeCoverageBed -scale $z -ibam $i -bg -g /psc/bioinformatics/sunyd/genome/oryza_sativa/osa_MSU7.fa > ${j}bedGraph; bedGraphToBigWig ${j}bedGraph ~/sunyd/genome/oryza_sativa/osa_MSU7.fa-length.txt ${j}bw; done\n",
      "#!mkdir salt_expression\n",
      "#!for i in `cut -f2 ../cuffnorm_sample_sheet_salt.txt |sed '1d' |sort -u`; do sed -n \"/$i/p\" ../cuffnorm_sample_sheet_salt.txt |cut -f1 |xargs samtools merge -@ 32 ${i}.bam; done            #########bam file comscripte together based on tissues\n",
      "#!cp -r pi_expression database\n",
      "#!cp -r salt_expression database"
     ],
     "language": "python",
     "metadata": {},
     "outputs": [],
     "prompt_number": 11
    },
    {
     "cell_type": "heading",
     "level": 2,
     "metadata": {},
     "source": [
      "Part Three.  Zea_mays"
     ]
    },
    {
     "cell_type": "heading",
     "level": 3,
     "metadata": {},
     "source": [
      "1. Assemble the transcriptome with RNA-seq datasets."
     ]
    },
    {
     "cell_type": "heading",
     "level": 6,
     "metadata": {},
     "source": [
      "we downloaded RNA-seq datasets from NCBI SRA. Cleaned reads with SolexaQA, Cutadapter. Mapped reads to the genome with Tophat. Assembled the transcriptome with Cufflinks."
     ]
    },
    {
     "cell_type": "code",
     "collapsed": false,
     "input": [
      "#######for single end data#######\n",
      "#!qsub -t 2-5 /psc/bioinformatics/sunyd/identify/assemble_qsub.sh /psc/bioinformatics/sunyd/identify/maize_rnaseq/SRP009063 SRR35421 /psc/bioinformatics/sunyd/genome/zea_mays/zma_AGPv2.17.gff3 /psc/bioinformatics/sunyd/genome/zea_mays/zma_AGPv2.17"
     ],
     "language": "python",
     "metadata": {},
     "outputs": [],
     "prompt_number": 1
    },
    {
     "cell_type": "code",
     "collapsed": false,
     "input": [
      "######for paired end data#####\n",
      "#!qsub -t 3 /psc/bioinformatics/sunyd/identify/assemble_pair_qsub.sh /psc/bioinformatics/sunyd/identify/maize_rnaseq/SRP011480 SRR44538 /psc/bioinformatics/sunyd/genome/zea_mays/zma_AGPv2.17.gff3 /psc/bioinformatics/sunyd/genome/zea_mays/zma_AGPv2.17"
     ],
     "language": "python",
     "metadata": {},
     "outputs": [],
     "prompt_number": 2
    },
    {
     "cell_type": "heading",
     "level": 3,
     "metadata": {},
     "source": [
      "2. Identify lncRNAs with machine learning method."
     ]
    },
    {
     "cell_type": "heading",
     "level": 6,
     "metadata": {},
     "source": [
      "Firstly, We merged all samples into one set of transcriptome with cuffcompare. To reduce transcriptional noise, we deleted ambiguous assembled transcripts, which were classified to \u2018j\u2019, \u2018p\u2019, \u2019r\u2019, \u2019s\u2019 categories by Cufflinks. Moreover, we eliminated low-expressed transcripts, which have FPKM values under two in all samples."
     ]
    },
    {
     "cell_type": "code",
     "collapsed": false,
     "input": [
      "#!bash /psc/bioinformatics/sunyd/identify/script/lncrna_prepare.sh /psc/bioinformatics/sunyd/identify/maize_rnaseq/SRRback/assemble_gtf_listall.txt /psc/bioinformatics/sunyd/genome/zea_mays/zma_AGPv2.17.gff3 /psc/bioinformatics/sunyd/genome/zea_mays/zma_AGPv2.17.fa /psc/bioinformatics/sunyd/identify/maize_rnaseq/SRRback 127"
     ],
     "language": "python",
     "metadata": {},
     "outputs": [],
     "prompt_number": 3
    },
    {
     "cell_type": "heading",
     "level": 6,
     "metadata": {},
     "source": [
      "Secondly, we built a Random Forest machine learning classification model to identify lncRNAs."
     ]
    },
    {
     "cell_type": "code",
     "collapsed": false,
     "input": [
      "#!for i in /psc/bioinformatics/sunyd/identify/*_rnaseq/SRRback/cuff*.combinedhq.name.fa; do j=`echo $i |cut -d \"/\" -f1-7`; split -d -a 2 -l 2000 $i $j/split_cuff/cuff; cd $j/split_cuff; rename '0' '' cuff0*; done\n",
      "#!qsub -t 1-80 /psc/bioinformatics/sunyd/identify/script/lncrnaml_qsuball_newtrain.sh /psc/bioinformatics/sunyd/identify/maize_rnaseq/SRRback \n",
      "#!bash /psc/bioinformatics/sunyd/identify/script/lncrna_handle_rfmodel.sh /psc/bioinformatics/sunyd/identify/maize_rnaseq/SRRback cuff127 /psc/bioinformatics/sunyd/genome/zea_mays/zma_tRNA_GtRNAdb.bed"
     ],
     "language": "python",
     "metadata": {},
     "outputs": [],
     "prompt_number": 4
    },
    {
     "cell_type": "heading",
     "level": 3,
     "metadata": {},
     "source": [
      "3. Annotate lncRNAs."
     ]
    },
    {
     "cell_type": "heading",
     "level": 6,
     "metadata": {},
     "source": [
      "Firstly, we want to identify repeated element in lncRNAs using RepeatMasker and mirna target and mimic using psRobert."
     ]
    },
    {
     "cell_type": "code",
     "collapsed": false,
     "input": [
      "#!qsub -t 4-17 /psc/bioinformatics/sunyd/identify/script/psrobot.mimic.sh /psc/bioinformatics/sunyd/identify/maize_rnaseq/SRRback/mirna/mirna.fa /psc/bioinformatics/sunyd/identify/maize_rnaseq/SRRback/cuff*-CPC_left.lncname.iuox.del.fa /psc/bioinformatics/sunyd/identify/maize_rnaseq/SRRback/mirna                                                                                          \n",
      "#!bash /psc/bioinformatics/sunyd/identify/script/repeat_mirna.sh /psc/bioinformatics/sunyd/identify/maize_rnaseq/SRRback cuff127 maize /psc/bioinformatics/sunyd/genome/zea_mays/zma_mirna_miRbase.fa "
     ],
     "language": "python",
     "metadata": {},
     "outputs": [],
     "prompt_number": 5
    },
    {
     "cell_type": "heading",
     "level": 6,
     "metadata": {},
     "source": [
      "Secondly, we calculated lncRNA expression among tissue samples with cuffnorm. We identified tissue-specifc lncRNAs with TCC and stress-responsive lncRNAs with cuffdiff and cummerRbund."
     ]
    },
    {
     "cell_type": "code",
     "collapsed": false,
     "input": [
      "#!bash /psc/bioinformatics/sunyd/identify/script/expression_gtf.sh cuff127 /psc/bioinformatics/sunyd/identify/maize_rnaseq/SRRback /psc/bioinformatics/sunyd/genome/zea_mays/zma_AGPv2.17\n",
      "#!bash /psc/bioinformatics/sunyd/identify/maize_rnaseq/samplesheet/cuffnorm.sh SRRback\n",
      "#!bash /psc/bioinformatics/sunyd/identify/script/tissue.sh /psc/bioinformatics/sunyd/identify/maize_rnaseq/SRRback /psc/bioinformatics/sunyd/genome/zea_mays/zma_AGPv2.17"
     ],
     "language": "python",
     "metadata": {},
     "outputs": [],
     "prompt_number": 6
    },
    {
     "cell_type": "heading",
     "level": 6,
     "metadata": {},
     "source": [
      "Thirdly, based on expression level, we calculated Pearson correlation coefficient (Pcc) between lncRNA and gene through WGCNA ."
     ]
    },
    {
     "cell_type": "code",
     "collapsed": false,
     "input": [
      "#!wc /psc/bioinformatics/sunyd/identify/maize_rnaseq/SRRback/cuffnorm.*/isoforms.fpkm_table\n",
      "#!bash /psc/bioinformatics/sunyd/identify/script/coexpression.sh /psc/bioinformatics/sunyd/identify/maize_rnaseq/SRRback /psc/bioinformatics/sunyd/genome/zea_mays/zma_AGPv2.17"
     ],
     "language": "python",
     "metadata": {},
     "outputs": [],
     "prompt_number": 7
    },
    {
     "cell_type": "heading",
     "level": 6,
     "metadata": {},
     "source": [
      "Fourthly, we calculated lncRNA sturcutre using ViennaRNA."
     ]
    },
    {
     "cell_type": "code",
     "collapsed": false,
     "input": [
      "#!bash /psc/bioinformatics/sunyd/identify/script/struc.sh /psc/bioinformatics/sunyd/identify/maize_rnaseq/SRRback cuff127"
     ],
     "language": "python",
     "metadata": {},
     "outputs": [],
     "prompt_number": 8
    },
    {
     "cell_type": "heading",
     "level": 6,
     "metadata": {},
     "source": [
      "Fifthly, we prepared results for the database."
     ]
    },
    {
     "cell_type": "code",
     "collapsed": false,
     "input": [
      "#!bash /psc/bioinformatics/sunyd/identify/script/database.sh /psc/bioinformatics/sunyd/identify/maize_rnaseq/SRRback zma cuff127 /psc/bioinformatics/sunyd/genome/zea_mays/zma_AGPv2.17.ano.all Zea_mays AGPv2.17       ####change the species number\n",
      "#!bash /psc/bioinformatics/sunyd/identify/script/database_stru.sh /psc/bioinformatics/sunyd/identify/maize_rnaseq/SRRback Zma"
     ],
     "language": "python",
     "metadata": {},
     "outputs": [],
     "prompt_number": 9
    },
    {
     "cell_type": "heading",
     "level": 6,
     "metadata": {},
     "source": [
      "Sixthly, we prepared bam files for JBrowse."
     ]
    },
    {
     "cell_type": "code",
     "collapsed": false,
     "input": [
      "######## tissue merge#####\n",
      "#!mkdir tissue_expression/\n",
      "#!cd tissue_expression/\n",
      "#!for i in `cut -f2 ../cuffnorm_sample_sheet_tissue.txt |sed '1d' |cut -d_ -f1 |sort -u`; do sed -n \"/$i/p\" ../cuffnorm_sample_sheet_tissue.txt |cut -f1 |xargs samtools merge -@ 32 ${i}.bam; done            #########bam file comscripte together based on tissues\n",
      "########stress merge#####\n",
      "#!mkdir stress_expression\n",
      "#!for i in `cut -f2 ../cuffnorm_sample_sheet_stress.txt |sed '1d' |sort -u`; do sed -n \"/$i/p\" ../cuffnorm_sample_sheet_stress.txt |cut -f1 |xargs samtools merge -@ 32 ${i}.bam; done            #########bam file comscripte together based on tissues\n",
      "#!mkdir drought_expression\n",
      "#!for i in `cut -f2 ../cuffnorm_sample_sheet_drought.txt |sed '1d' |sort -u`; do sed -n \"/$i/p\" ../cuffnorm_sample_sheet_drought.txt |cut -f1 |xargs samtools merge -@ 32 ${i}.bam; done            #########bam file comscripte together based on tissues\n",
      "#!cp -r cold_expression database\n",
      "#!cp -r heat_expression database\n"
     ],
     "language": "python",
     "metadata": {},
     "outputs": [],
     "prompt_number": 10
    },
    {
     "cell_type": "heading",
     "level": 2,
     "metadata": {},
     "source": [
      "Part Four.  Glycine_max"
     ]
    },
    {
     "cell_type": "heading",
     "level": 3,
     "metadata": {},
     "source": [
      "1. Assemble the transcriptome with RNA-seq datasets."
     ]
    },
    {
     "cell_type": "heading",
     "level": 6,
     "metadata": {},
     "source": [
      "we downloaded RNA-seq datasets from NCBI SRA. Cleaned reads with SolexaQA, Cutadapter. Mapped reads to the genome with Tophat. Assembled the transcriptome with Cufflinks."
     ]
    },
    {
     "cell_type": "code",
     "collapsed": false,
     "input": [
      "#######for single end data#######\n",
      "#!qsub -t 6-9 /psc/bioinformatics/sunyd/identify/assemble_qsub.sh /psc/bioinformatics/sunyd/identify/soybean_rnaseq/SRP010105 SRR39431 /psc/bioinformatics/sunyd/genome/glycine_max/gma_Wm82.a2.v1.gff3 /psc/bioinformatics/sunyd/genome/glycine_max/gma_Wm82.a2.v1"
     ],
     "language": "python",
     "metadata": {},
     "outputs": [],
     "prompt_number": 1
    },
    {
     "cell_type": "code",
     "collapsed": false,
     "input": [
      "#####for paired end data######\n",
      "#!qsub -t 62-77 /psc/bioinformatics/sunyd/identify/assemble_pair_qsub.sh /psc/bioinformatics/sunyd/identify/soybean_rnaseq/SRP017638 SRR6391 /psc/bioinformatics/sunyd/genome/glycine_max/gma_Wm82.a2.v1.gff3 /psc/bioinformatics/sunyd/genome/glycine_max/gma_Wm82.a2.v1"
     ],
     "language": "python",
     "metadata": {},
     "outputs": [],
     "prompt_number": 2
    },
    {
     "cell_type": "heading",
     "level": 3,
     "metadata": {},
     "source": [
      "2. Identify lncRNAs with machine learning method."
     ]
    },
    {
     "cell_type": "heading",
     "level": 6,
     "metadata": {},
     "source": [
      "Firstly, We merged all samples into one set of transcriptome with cuffcompare. To reduce transcriptional noise, we deleted ambiguous assembled transcripts, which were classified to \u2018j\u2019, \u2018p\u2019, \u2019r\u2019, \u2019s\u2019 categories by Cufflinks. Moreover, we eliminated low-expressed transcripts, which have FPKM values under two in all samples."
     ]
    },
    {
     "cell_type": "code",
     "collapsed": false,
     "input": [
      "#!bash /psc/bioinformatics/sunyd/identify/script/lncrna_prepare.sh /psc/bioinformatics/sunyd/identify/soybean_rnaseq/SRRback/assemble_gtf_listall.txt /psc/bioinformatics/sunyd/genome/glycine_max/gma_Wm82.a2.v1.gff3 /psc/bioinformatics/sunyd/genome/glycine_max/gma_Wm82.a2.v1.fa /psc/bioinformatics/sunyd/identify/soybean_rnaseq/SRRback 115"
     ],
     "language": "python",
     "metadata": {},
     "outputs": [],
     "prompt_number": 3
    },
    {
     "cell_type": "heading",
     "level": 6,
     "metadata": {},
     "source": [
      "Secondly, we built a Random Forest machine learning classification model to identify lncRNAs."
     ]
    },
    {
     "cell_type": "code",
     "collapsed": false,
     "input": [
      "#!for i in /psc/bioinformatics/sunyd/identify/soybean_rnaseq/SRRback/cuff*.combinedhq.name.fa; do j=`echo $i |cut -d \"/\" -f1-7`; split -d -a 2 -l 3000 $i $j/split_cuff/cuff; cd $j/split_cuff; rename '0' '' cuff0*; done\n",
      "#!qsub -t 1-80 /psc/bioinformatics/sunyd/identify/script/lncrnaml_qsuball_newtrain.sh /psc/bioinformatics/sunyd/identify/soybean_rnaseq/SRRback \n",
      "#!bash /psc/bioinformatics/sunyd/identify/script/lncrna_handle_rfmodel.sh /psc/bioinformatics/sunyd/identify/soybean_rnaseq/SRRback cuff115 /psc/bioinformatics/sunyd/genome/glycine_max/gma_tRNA_GtRNAdb.bed"
     ],
     "language": "python",
     "metadata": {},
     "outputs": [],
     "prompt_number": 4
    },
    {
     "cell_type": "heading",
     "level": 3,
     "metadata": {},
     "source": [
      "3. Annotate lncRNAs."
     ]
    },
    {
     "cell_type": "heading",
     "level": 6,
     "metadata": {},
     "source": [
      "Firstly, we want to identify repeated element in lncRNAs using RepeatMasker and mirna target and mimic using psRobert."
     ]
    },
    {
     "cell_type": "code",
     "collapsed": false,
     "input": [
      "#!qsub -t 4-17 /psc/bioinformatics/sunyd/identify/script/psrobot.mimic.sh /psc/bioinformatics/sunyd/identify/soybean_rnaseq/SRRback/mirna/mirna.fa /psc/bioinformatics/sunyd/identify/soybean_rnaseq/SRRback/cuff*-CPC_left.lncname.iuox.del.fa /psc/bioinformatics/sunyd/identify/soybean_rnaseq/SRRback/mirna                                                                                          \n",
      "#!bash /psc/bioinformatics/sunyd/identify/script/repeat_mirna.sh /psc/bioinformatics/sunyd/identify/soybean_rnaseq/SRRback cuff115 soybean /psc/bioinformatics/sunyd/genome/glycine_max/gma_mirna_miRbase.fa "
     ],
     "language": "python",
     "metadata": {},
     "outputs": [],
     "prompt_number": 5
    },
    {
     "cell_type": "heading",
     "level": 6,
     "metadata": {},
     "source": [
      "Secondly, we calculated lncRNA expression among tissue samples with cuffnorm. We identified tissue-specifc lncRNAs with TCC and stress-responsive lncRNAs with cuffdiff and cummerRbund."
     ]
    },
    {
     "cell_type": "code",
     "collapsed": false,
     "input": [
      "#!bash /psc/bioinformatics/sunyd/identify/script/expression_gtf.sh cuff115 /psc/bioinformatics/sunyd/identify/soybean_rnaseq/SRRback /psc/bioinformatics/sunyd/genome/glycine_max/gma_Wm82.a2.v1\n",
      "#!bash /psc/bioinformatics/sunyd/identify/soybean_rnaseq/samplesheet/cuffnorm.sh SRRback\n",
      "#!bash /psc/bioinformatics/sunyd/identify/script/tissue.sh /psc/bioinformatics/sunyd/identify/soybean_rnaseq/SRRback /psc/bioinformatics/sunyd/genome/glycine_max/gma_Wm82.a2.v1"
     ],
     "language": "python",
     "metadata": {},
     "outputs": [],
     "prompt_number": 6
    },
    {
     "cell_type": "heading",
     "level": 6,
     "metadata": {},
     "source": [
      "Thirdly, based on expression level, we calculated Pearson correlation coefficient (Pcc) between lncRNA and gene through WGCNA ."
     ]
    },
    {
     "cell_type": "code",
     "collapsed": false,
     "input": [
      "#!wc /psc/bioinformatics/sunyd/identify/soybean_rnaseq/SRRback/cuffnorm.*/isoforms.fpkm_table\n",
      "#!bash /psc/bioinformatics/sunyd/identify/script/coexpression.sh /psc/bioinformatics/sunyd/identify/soybean_rnaseq/SRRback /psc/bioinformatics/sunyd/genome/glycine_max/gma_Wm82.a2.v1"
     ],
     "language": "python",
     "metadata": {},
     "outputs": [],
     "prompt_number": 7
    },
    {
     "cell_type": "heading",
     "level": 6,
     "metadata": {},
     "source": [
      "Fourthly, we calculated lncRNA sturcutre using ViennaRNA."
     ]
    },
    {
     "cell_type": "code",
     "collapsed": false,
     "input": [
      "#!bash /psc/bioinformatics/sunyd/identify/script/struc.sh /psc/bioinformatics/sunyd/identify/arab_rnaseq/SRRback cuff153"
     ],
     "language": "python",
     "metadata": {},
     "outputs": [],
     "prompt_number": 8
    },
    {
     "cell_type": "heading",
     "level": 6,
     "metadata": {},
     "source": [
      "Fifthly, we prepared results for the database."
     ]
    },
    {
     "cell_type": "code",
     "collapsed": false,
     "input": [
      "#!bash /psc/bioinformatics/sunyd/identify/script/database.sh /psc/bioinformatics/sunyd/identify/soybean_rnaseq/SRRback gma cuff115 /psc/bioinformatics/sunyd/genome/glycine_max/gma_Wm82.a2.v1.ano.all Glycine_max Wm82.a2.v1       ####change the species number\n",
      "#!bash /psc/bioinformatics/sunyd/identify/script/database_stru.sh /psc/bioinformatics/sunyd/identify/soybean_rnaseq/SRRback Gma"
     ],
     "language": "python",
     "metadata": {},
     "outputs": [],
     "prompt_number": 9
    },
    {
     "cell_type": "heading",
     "level": 6,
     "metadata": {},
     "source": [
      "Sixthly, we prepared bam files for JBrowse."
     ]
    },
    {
     "cell_type": "code",
     "collapsed": false,
     "input": [
      "######## tissue merge#####\n",
      "#!mkdir tissue_expression/\n",
      "#!cd tissue_expression/\n",
      "#!for i in `cut -f2 ../cuffnorm_sample_sheet_tissue.txt |sed '1d' |cut -d_ -f1 |sort -u`; do sed -n \"/$i/p\" ../cuffnorm_sample_sheet_tissue.txt |cut -f1 |xargs samtools merge -@ 32 ${i}.bam; done            #########bam file comscripte together based on tissues\n",
      "########stress merge#####\n",
      "#!mkdir drought_expression\n",
      "#!for i in `cut -f2 ../cuffnorm_sample_sheet_drought.txt |sed '1d' |sort -u`; do sed -n \"/$i/p\" ../cuffnorm_sample_sheet_drought.txt |cut -f1 |xargs samtools merge ${i}.bam; done            #########bam file comscripte together based on tissues\n",
      "#!mkdir salt_expression\n",
      "#!for i in `cut -f2 ../cuffnorm_sample_sheet_salt.txt |sed '1d' |sort -u`; do sed -n \"/$i/p\" ../cuffnorm_sample_sheet_salt.txt |cut -f1 |xargs samtools merge ${i}.bam; done            #########bam file comscripte together based on tissues\n",
      "#!cat cuffdiff.salt/*isodiff.txt |cut -f1 |sort -u |sed -n '/TCONS/p' |awk '{OFS=\"\\t\"; print $1, \"Salt\"}' >> database/gma.stress.txt\n",
      "#!cp -r drought_expression database\n",
      "#!cp -r salt_expression database\n"
     ],
     "language": "python",
     "metadata": {},
     "outputs": [],
     "prompt_number": 10
    },
    {
     "cell_type": "heading",
     "level": 2,
     "metadata": {},
     "source": [
      "Part Five.  Solanum_lycopersicum"
     ]
    },
    {
     "cell_type": "heading",
     "level": 3,
     "metadata": {},
     "source": [
      "1. Assemble the transcriptome with RNA-seq datasets."
     ]
    },
    {
     "cell_type": "heading",
     "level": 6,
     "metadata": {},
     "source": [
      "we downloaded RNA-seq datasets from NCBI SRA. Cleaned reads with SolexaQA, Cutadapter. Mapped reads to the genome with Tophat. Assembled the transcriptome with Cufflinks."
     ]
    },
    {
     "cell_type": "code",
     "collapsed": false,
     "input": [
      "#######for single end data#######\n",
      "#!qsub -t 16-31 /psc/bioinformatics/sunyd/identify/assemble_qsub.sh /psc/bioinformatics/sunyd/identify/tomato_rnaseq/SRP022909 SRR8630 /psc/bioinformatics/sunyd/genome/solanum_lycopersicum/sly_ITAG2.4.gff3 /psc/bioinformatics/sunyd/genome/solanum_lycopersicum/sly_ITAG2.4_genomic"
     ],
     "language": "python",
     "metadata": {},
     "outputs": [],
     "prompt_number": 1
    },
    {
     "cell_type": "code",
     "collapsed": false,
     "input": [
      "######for paired end data###############\n",
      "#!qsub -t 507 /psc/bioinformatics/sunyd/identify/assemble_pair_qsub.sh /psc/bioinformatics/sunyd/identify/tomato_rnaseq/SRP019504 SRR786 /psc/bioinformatics/sunyd/genome/solanum_lycopersicum/sly_ITAG2.4.gff3 /psc/bioinformatics/sunyd/genome/solanum_lycopersicum/sly_ITAG2.4_genomic"
     ],
     "language": "python",
     "metadata": {},
     "outputs": [],
     "prompt_number": 2
    },
    {
     "cell_type": "code",
     "collapsed": false,
     "input": [
      "######strand specific#####\n",
      "#!qsub -t 42-94 /psc/bioinformatics/sunyd/identify/assemble_strandspec_qsub.sh /psc/bioinformatics/sunyd/identify/tomato_rnaseq/candidate/SRP022911 SRR8630 /psc/bioinformatics/sunyd/genome/solanum_lycopersicum/sly_ITAG2.4.gff3 /psc/bioinformatics/sunyd/genome/solanum_lycopersicum/sly_ITAG2.4_genomic"
     ],
     "language": "python",
     "metadata": {},
     "outputs": [],
     "prompt_number": 3
    },
    {
     "cell_type": "heading",
     "level": 3,
     "metadata": {},
     "source": [
      "2. Identify lncRNAs with machine learning method."
     ]
    },
    {
     "cell_type": "heading",
     "level": 6,
     "metadata": {},
     "source": [
      "Firstly, We merged all samples into one set of transcriptome with cuffcompare. To reduce transcriptional noise, we deleted ambiguous assembled transcripts, which were classified to \u2018j\u2019, \u2018p\u2019, \u2019r\u2019, \u2019s\u2019 categories by Cufflinks. Moreover, we eliminated low-expressed transcripts, which have FPKM values under two in all samples."
     ]
    },
    {
     "cell_type": "code",
     "collapsed": false,
     "input": [
      "#!bash /psc/bioinformatics/sunyd/identify/script/lncrna_prepare.sh /psc/bioinformatics/sunyd/identify/tomato_rnaseq/SRRback/assemble_gtf_listall.txt /psc/bioinformatics/sunyd/genome/solanum_lycopersicum/sly_ITAG2.4.gff3 /psc/bioinformatics/sunyd/genome/solanum_lycopersicum/sly_ITAG2.4.fa /psc/bioinformatics/sunyd/identify/tomato_rnaseq/SRRback 223"
     ],
     "language": "python",
     "metadata": {},
     "outputs": [],
     "prompt_number": 4
    },
    {
     "cell_type": "heading",
     "level": 6,
     "metadata": {},
     "source": [
      "Secondly, we built a Random Forest machine learning classification model to identify lncRNAs."
     ]
    },
    {
     "cell_type": "code",
     "collapsed": false,
     "input": [
      "#!for i in /psc/bioinformatics/sunyd/identify/tomato_rnaseq/SRRback/cuff*.combinedhq.name.fa; do j=`echo $i |cut -d \"/\" -f1-7`; split -d -a 2 -l 2000 $i $j/split_cuff/cuff; cd $j/split_cuff; rename '0' '' cuff0*; done\n",
      "#!qsub -t 1-80 /psc/bioinformatics/sunyd/identify/script/lncrnaml_qsuball_newtrain.sh /psc/bioinformatics/sunyd/identify/tomato_rnaseq/SRRback \n",
      "#!bash /psc/bioinformatics/sunyd/identify/script/lncrna_handle_rfmodel.sh /psc/bioinformatics/sunyd/identify/tomato_rnaseq/SRRback cuff223 /psc/bioinformatics/sunyd/genome/solanum_lycopersicum/sly_ITAG2.4_hkRNA.gff3"
     ],
     "language": "python",
     "metadata": {},
     "outputs": [],
     "prompt_number": 5
    },
    {
     "cell_type": "heading",
     "level": 3,
     "metadata": {},
     "source": [
      "3. Annotate lncRNAs."
     ]
    },
    {
     "cell_type": "heading",
     "level": 6,
     "metadata": {},
     "source": [
      "Firstly, we want to identify repeated element in lncRNAs using RepeatMasker and mirna target and mimic using psRobert."
     ]
    },
    {
     "cell_type": "code",
     "collapsed": false,
     "input": [
      "#!qsub -t 4-17 /psc/bioinformatics/sunyd/identify/script/psrobot.mimic.sh /psc/bioinformatics/sunyd/identify/tomato_rnaseq/SRRback/mirna/mirna.fa /psc/bioinformatics/sunyd/identify/tomato_rnaseq/SRRback/cuff*-CPC_left.lncname.iuox.del.fa /psc/bioinformatics/sunyd/identify/tomato_rnaseq/SRRback/mirna                                                                                          \n",
      "#!bash /psc/bioinformatics/sunyd/identify/script/repeat_mirna.sh /psc/bioinformatics/sunyd/identify/tomato_rnaseq/SRRback cuff223 tomato /psc/bioinformatics/sunyd/genome/solanum_lycopersicum/sly_mirna_miRbase.fa "
     ],
     "language": "python",
     "metadata": {},
     "outputs": [],
     "prompt_number": 6
    },
    {
     "cell_type": "heading",
     "level": 6,
     "metadata": {},
     "source": [
      "Secondly, we calculated lncRNA expression among tissue samples with cuffnorm. We identified tissue-specifc lncRNAs with TCC and stress-responsive lncRNAs with cuffdiff and cummerRbund."
     ]
    },
    {
     "cell_type": "code",
     "collapsed": false,
     "input": [
      "#!bash /psc/bioinformatics/sunyd/identify/script/expression_gtf.sh cuff223 /psc/bioinformatics/sunyd/identify/tomato_rnaseq/SRRback /psc/bioinformatics/sunyd/genome/solanum_lycopersicum/sly_ITAG2.4\n",
      "#!bash /psc/bioinformatics/sunyd/identify/tomato_rnaseq/samplesheet/cuffnorm.sh SRRback\n",
      "#!bash /psc/bioinformatics/sunyd/identify/script/tissue.sh /psc/bioinformatics/sunyd/identify/tomato_rnaseq/SRRback /psc/bioinformatics/sunyd/genome/solanum_lycopersicum/sly_ITAG2.4"
     ],
     "language": "python",
     "metadata": {},
     "outputs": [],
     "prompt_number": 7
    },
    {
     "cell_type": "heading",
     "level": 6,
     "metadata": {},
     "source": [
      "Thirdly, based on expression level, we calculated Pearson correlation coefficient (Pcc) between lncRNA and gene through WGCNA ."
     ]
    },
    {
     "cell_type": "code",
     "collapsed": false,
     "input": [
      "#!wc /psc/bioinformatics/sunyd/identify/tomato_rnaseq/SRRback/cuffnorm.*/isoforms.fpkm_table\n",
      "#!bash /psc/bioinformatics/sunyd/identify/script/coexpression.sh /psc/bioinformatics/sunyd/identify/tomato_rnaseq/SRRback /psc/bioinformatics/sunyd/genome/solanum_lycopersicum/sly_ITAG2.4"
     ],
     "language": "python",
     "metadata": {},
     "outputs": [],
     "prompt_number": 8
    },
    {
     "cell_type": "heading",
     "level": 6,
     "metadata": {},
     "source": [
      "Fourthly, we calculated lncRNA sturcutre using ViennaRNA."
     ]
    },
    {
     "cell_type": "code",
     "collapsed": false,
     "input": [
      "#!bash /psc/bioinformatics/sunyd/identify/script/struc.sh /psc/bioinformatics/sunyd/identify/tomato_rnaseq/SRRback cuff223"
     ],
     "language": "python",
     "metadata": {},
     "outputs": [],
     "prompt_number": 9
    },
    {
     "cell_type": "heading",
     "level": 6,
     "metadata": {},
     "source": [
      "Fifthly, we prepared results for the database."
     ]
    },
    {
     "cell_type": "code",
     "collapsed": false,
     "input": [
      "#!bash /psc/bioinformatics/sunyd/identify/script/database.sh /psc/bioinformatics/sunyd/identify/tomato_rnaseq/SRRback sly cuff223 /psc/bioinformatics/sunyd/genome/solanum_lycopersicum/sly_ITAG2.4.ano.all Solanum_lycopersicum ITAG2.4       ####change the species number\n",
      "#!bash /psc/bioinformatics/sunyd/identify/script/database_stru.sh /psc/bioinformatics/sunyd/identify/tomato_rnaseq/SRRback Sly"
     ],
     "language": "python",
     "metadata": {},
     "outputs": [],
     "prompt_number": 10
    },
    {
     "cell_type": "heading",
     "level": 6,
     "metadata": {},
     "source": [
      "Sixthly, we prepared bam files for JBrowse."
     ]
    },
    {
     "cell_type": "code",
     "collapsed": false,
     "input": [
      "######## tissue merge#####\n",
      "#!mkdir tissue_expression/\n",
      "#!cd tissue_expression/\n",
      "#!for i in `cut -f2 ../cuffnorm_sample_sheet_light.txt |sed '1d' |cut -d_ -f1 |sort -u`; do sed -n \"/$i/p\" ../cuffnorm_sample_sheet_light.txt |cut -f1 |xargs samtools merge -@ 32 ${i}.bam; done            #########bam file comscripte together based on tissues"
     ],
     "language": "python",
     "metadata": {},
     "outputs": [],
     "prompt_number": 11
    },
    {
     "cell_type": "heading",
     "level": 2,
     "metadata": {},
     "source": [
      "Part Six.  Cucumis_sativus"
     ]
    },
    {
     "cell_type": "heading",
     "level": 3,
     "metadata": {},
     "source": [
      "1. Assemble the transcriptome with RNA-seq datasets."
     ]
    },
    {
     "cell_type": "heading",
     "level": 6,
     "metadata": {},
     "source": [
      "we downloaded RNA-seq datasets from NCBI SRA. Cleaned reads with SolexaQA, Cutadapter. Mapped reads to the genome with Tophat. Assembled the transcriptome with Cufflinks."
     ]
    },
    {
     "cell_type": "code",
     "collapsed": false,
     "input": [
      "#######for single end data#######\n",
      "#!qsub -t 4901 /psc/bioinformatics/sunyd/identify/assemble_strandspec_qsub.sh /psc/bioinformatics/sunyd/identify/cucumber_rnaseq/SRP035251 SRR110 /psc/bioinformatics/sunyd/genome/cucumis_sativus/csa_ChineseLong.v2.gff3 /psc/bioinformatics/sunyd/genome/cucumis_sativus/csa_ChineseLong.v2"
     ],
     "language": "python",
     "metadata": {},
     "outputs": [],
     "prompt_number": 1
    },
    {
     "cell_type": "heading",
     "level": 3,
     "metadata": {},
     "source": [
      "2. Identify lncRNAs with machine learning method."
     ]
    },
    {
     "cell_type": "heading",
     "level": 6,
     "metadata": {},
     "source": [
      "Firstly, We merged all samples into one set of transcriptome with cuffcompare. To reduce transcriptional noise, we deleted ambiguous assembled transcripts, which were classified to \u2018j\u2019, \u2018p\u2019, \u2019r\u2019, \u2019s\u2019 categories by Cufflinks. Moreover, we eliminated low-expressed transcripts, which have FPKM values under two in all samples."
     ]
    },
    {
     "cell_type": "code",
     "collapsed": false,
     "input": [
      "#!bash /psc/bioinformatics/sunyd/identify/script/lncrna_prepare.sh /psc/bioinformatics/sunyd/identify/cucumber_rnaseq/SRRback/assemble_gtf_listall.txt /psc/bioinformatics/sunyd/genome/cucumis_sativus/csa_ChineseLong.v2.gff3 /psc/bioinformatics/sunyd/genome/cucumis_sativus/csa_ChineseLong.v2.fa /psc/bioinformatics/sunyd/identify/cucumber_rnaseq/SRRback 75"
     ],
     "language": "python",
     "metadata": {},
     "outputs": [],
     "prompt_number": 2
    },
    {
     "cell_type": "heading",
     "level": 6,
     "metadata": {},
     "source": [
      "Secondly, we built a Random Forest machine learning classification model to identify lncRNAs."
     ]
    },
    {
     "cell_type": "code",
     "collapsed": false,
     "input": [
      "#!for i in /psc/bioinformatics/sunyd/identify/cucumber_rnaseq/SRRback/cuff*.combinedhq.name.fa; do j=`echo $i |cut -d \"/\" -f1-7`; split -d -a 2 -l 2000 $i $j/split_cuff/cuff; cd $j/split_cuff; rename '0' '' cuff0*; done\n",
      "#!qsub -t 1-80 /psc/bioinformatics/sunyd/identify/script/lncrnaml_qsuball_newtrain.sh /psc/bioinformatics/sunyd/identify/cucumber_rnaseq/SRRback \n",
      "#!bash /psc/bioinformatics/sunyd/identify/script/lncrna_handle_rfmodel.sh /psc/bioinformatics/sunyd/identify/cucumber_rnaseq/SRRback cuff75 /psc/bioinformatics/sunyd/genome/cucumis_sativus/csa_ChineseLong.v2.hkRNA.gff3"
     ],
     "language": "python",
     "metadata": {},
     "outputs": [],
     "prompt_number": 3
    },
    {
     "cell_type": "heading",
     "level": 3,
     "metadata": {},
     "source": [
      "3. Annotate lncRNAs."
     ]
    },
    {
     "cell_type": "heading",
     "level": 6,
     "metadata": {},
     "source": [
      "Firstly, we want to identify repeated element in lncRNAs using RepeatMasker and mirna target and mimic using psRobert."
     ]
    },
    {
     "cell_type": "code",
     "collapsed": false,
     "input": [
      "#!qsub -t 4-17 /psc/bioinformatics/sunyd/identify/script/psrobot.mimic.sh /psc/bioinformatics/sunyd/identify/cucumber_rnaseq/SRRback/mirna/mirna.fa /psc/bioinformatics/sunyd/identify/cucumber_rnaseq/SRRback/cuff*-CPC_left.lncname.iuox.del.fa /psc/bioinformatics/sunyd/identify/cucumber_rnaseq/SRRback/mirna                                                                                          \n",
      "#!bash /psc/bioinformatics/sunyd/identify/script/repeat_mirna.sh /psc/bioinformatics/sunyd/identify/cucumber_rnaseq/SRRback cuff75 cucumber /psc/bioinformatics/sunyd/genome/cucumis_sativus/csa_mirna_miRbase.fa "
     ],
     "language": "python",
     "metadata": {},
     "outputs": [],
     "prompt_number": 4
    },
    {
     "cell_type": "heading",
     "level": 6,
     "metadata": {},
     "source": [
      "Secondly, we calculated lncRNA expression among tissue samples with cuffnorm. We identified tissue-specifc lncRNAs with TCC and stress-responsive lncRNAs with cuffdiff and cummerRbund."
     ]
    },
    {
     "cell_type": "code",
     "collapsed": false,
     "input": [
      "#!bash /psc/bioinformatics/sunyd/identify/script/expression_gtf.sh cuff75 /psc/bioinformatics/sunyd/identify/cucumber_rnaseq/SRRback /psc/bioinformatics/sunyd/genome/cucumis_sativus/csa_ChineseLong.v2\n",
      "#!bash /psc/bioinformatics/sunyd/identify/cucumber_rnaseq/samplesheet/cuffnorm.sh SRRback\n",
      "#!bash /psc/bioinformatics/sunyd/identify/script/tissue.sh /psc/bioinformatics/sunyd/identify/cucumber_rnaseq/SRRback /psc/bioinformatics/sunyd/genome/cucumis_sativus/csa_ChineseLong.v2"
     ],
     "language": "python",
     "metadata": {},
     "outputs": [],
     "prompt_number": 5
    },
    {
     "cell_type": "heading",
     "level": 6,
     "metadata": {},
     "source": [
      "Thirdly, based on expression level, we calculated Pearson correlation coefficient (Pcc) between lncRNA and gene through WGCNA ."
     ]
    },
    {
     "cell_type": "code",
     "collapsed": false,
     "input": [
      "#!wc /psc/bioinformatics/sunyd/identify/cucumber_rnaseq/SRRback/cuffnorm.*/isoforms.fpkm_table\n",
      "#!bash /psc/bioinformatics/sunyd/identify/script/coexpression.sh /psc/bioinformatics/sunyd/identify/cucumber_rnaseq/SRRback /psc/bioinformatics/sunyd/genome/cucumis_sativus/csa_ChineseLong.v2"
     ],
     "language": "python",
     "metadata": {},
     "outputs": [],
     "prompt_number": 6
    },
    {
     "cell_type": "heading",
     "level": 6,
     "metadata": {},
     "source": [
      "Fourthly, we calculated lncRNA sturcutre using ViennaRNA."
     ]
    },
    {
     "cell_type": "code",
     "collapsed": false,
     "input": [
      "#!bash /psc/bioinformatics/sunyd/identify/script/struc.sh /psc/bioinformatics/sunyd/identify/cucumber_rnaseq/SRRback cuff75"
     ],
     "language": "python",
     "metadata": {},
     "outputs": [],
     "prompt_number": 7
    },
    {
     "cell_type": "heading",
     "level": 6,
     "metadata": {},
     "source": [
      "Fifthly, we prepared results for the database."
     ]
    },
    {
     "cell_type": "code",
     "collapsed": false,
     "input": [
      "#!bash /psc/bioinformatics/sunyd/identify/script/database.sh /psc/bioinformatics/sunyd/identify/cucumber_rnaseq/SRRback csa cuff75 /psc/bioinformatics/sunyd/genome/cucumis_sativus/csa_ChineseLong.v2.ano.all Cucumis_Sativus ChineseLong.v2       ####change the species number\n",
      "#!bash /psc/bioinformatics/sunyd/identify/script/database_stru.sh /psc/bioinformatics/sunyd/identify/cucumber_rnaseq/SRRback Csa"
     ],
     "language": "python",
     "metadata": {},
     "outputs": [],
     "prompt_number": 8
    },
    {
     "cell_type": "heading",
     "level": 6,
     "metadata": {},
     "source": [
      "Sixthly, we prepared bam files for JBrowse."
     ]
    },
    {
     "cell_type": "code",
     "collapsed": false,
     "input": [
      "######## tissue merge#####\n",
      "#!mkdir tissue_expression/\n",
      "#!cd tissue_expression/\n",
      "#!for i in `cut -f2 ../../cuffnorm_sample_sheet_tissue.txt |sed '1d' |cut -d_ -f1 |sort -u`; do sed -n \"/$i/p\" ../../cuffnorm_sample_sheet_tissue.txt |cut -f1 |xargs samtools merge -@ 32 ${i}.bam; done            #########bam file comscripte together based on tissues\n"
     ],
     "language": "python",
     "metadata": {},
     "outputs": [],
     "prompt_number": 9
    },
    {
     "cell_type": "heading",
     "level": 2,
     "metadata": {},
     "source": [
      "Part Seven. Data combination for database"
     ]
    },
    {
     "cell_type": "heading",
     "level": 3,
     "metadata": {},
     "source": [
      "1. Identify stress-responsive lncRNAs with cummeRbund."
     ]
    },
    {
     "cell_type": "code",
     "collapsed": false,
     "input": [
      "#!bash /psc/bioinformatics/sunyd/identify/script/stress.sh"
     ],
     "language": "python",
     "metadata": {},
     "outputs": [],
     "prompt_number": 1
    },
    {
     "cell_type": "heading",
     "level": 3,
     "metadata": {},
     "source": [
      "2. Copy all results into one direcotry."
     ]
    },
    {
     "cell_type": "code",
     "collapsed": false,
     "input": [
      "#!cd ~/sunyd/identify/\n",
      "#!for i in */SRRback/database/txt/*.basic.txt; do awk '{if($5==\"intergenic\") {OFS=\"\\t\"; print $1,$2,$3,$4,$5,$6,$7,$8,$9,$10,$11,$12,\"NONE\",\"NONE\",\"NONE\";} else {OFS=\"\\t\"; print $0;}}' $i > ${i}1; mv ${i}1 $i; done   #######revise intergenic info##########\n",
      "#!cd ~/sunyd/TPLA/volume/raw_data\n",
      "#!bash cp_update.sh SRRback\n",
      "#!bash install_gff3_fa.sh\n",
      "#!bash install_lncrna_db.sh\n",
      "#!bash install_tables.sh\n",
      "#!bash install_struc_update.sh SRRback"
     ],
     "language": "python",
     "metadata": {},
     "outputs": [],
     "prompt_number": 2
    },
    {
     "cell_type": "heading",
     "level": 3,
     "metadata": {},
     "source": [
      "3. Prepare Histone ChIP-seq datasets."
     ]
    },
    {
     "cell_type": "heading",
     "level": 6,
     "metadata": {},
     "source": [
      "Firstly, we downloaded ChIP-seq data from GEO."
     ]
    },
    {
     "cell_type": "code",
     "collapsed": false,
     "input": [
      "########Chip datasets ##########\n",
      "#!for i in *.tar; do j=`echo $i |cut -d_ -f1`; mkdir $j; tar xvf $i -C $j; chmod +x $j/*; done"
     ],
     "language": "python",
     "metadata": {},
     "outputs": [],
     "prompt_number": 3
    },
    {
     "cell_type": "heading",
     "level": 6,
     "metadata": {},
     "source": [
      "Secondly, Arabidopsis ChIP-seq."
     ]
    },
    {
     "cell_type": "code",
     "collapsed": false,
     "input": [
      "#!cd ~/sunyd/identify/chip/GSE53620\n",
      "#!macs14 -t GSM1296932_wt_H3K27me3.r1.bed -c GSM1296940_wt_input.bed -f BED -n wt_H3K27me3_r1 --nomodel -p 0.05 -w -S\n",
      "#!macs14 -t GSM1296933_wt_H3K27me3.r2.bed -c GSM1296940_wt_input.bed -f BED -n wt_H3K27me3_r2 --nomodel -p 0.05 -w -S\n",
      "#!for i in *_wiggle/*/*.gz; do j=`echo $i |rev |cut -d \"/\" -f1 |rev |cut -d_ -f2-4 |sed 's/control/Input/g' |sed 's/treat/ChIP/g' |awk -F\"_\" '{OFS=\"_\"; print $1,$3,$2}' |sed 's/r/rep/g'`; zcat $i |sed 's/=Chr/=/g' |wigToBigWig -clip stdin /psc/bioinformatics/sunyd/genome/arabidopsis_thaliana/ath_TAIR10.fa-length.txt ${j}.bw; done\n",
      "\n",
      "#!cd ~/sunyd/identify/chip/GSE67776\n",
      "#!for i in *.bedGraph; do j=`echo $i |cut -d_ -f2-4`; sed 's/Chr//g' $i > ${i}.tmp; bedGraphToBigWig ${i}.tmp /psc/bioinformatics/sunyd/genome/arabidopsis_thaliana/ath_TAIR10.fa-length.txt ${j}.bw; rm ${i}.tmp; done\n",
      "\n",
      "#!cd ~/sunyd/identify/chip/GSE49090\n",
      "#!zcat GSM1193608_110801_ChIPseq_H3K4m2_Col_sib_cap-No_Sibs_unique_only-TRUE.wig.gz |sed '/track type/d' |sed 's/=chr/=/g' |wigToBigWig -clip stdin /psc/bioinformatics/sunyd/genome/arabidopsis_thaliana/ath_TAIR10.fa-length.txt H3K4m2_ChIP_rep1.bw\n",
      "#!zcat GSM1193616_130712_ChIPseq_H3K4m2_Col_sib_cap-No_Sibs_unique_only-TRUE.wig.gz |sed '/track type/d' |sed 's/=chr/=/g' |wigToBigWig -clip stdin /psc/bioinformatics/sunyd/genome/arabidopsis_thaliana/ath_TAIR10.fa-length.txt H3K4m2_ChIP_rep2.bw\n",
      "#!zcat GSM1193612_110801_ChIPseq_H3K4m3_Col_sib_cap-No_Sibs_unique_only-TRUE.wig.gz |sed '/track type/d' |sed 's/=chr/=/g' |wigToBigWig -clip stdin /psc/bioinformatics/sunyd/genome/arabidopsis_thaliana/ath_TAIR10.fa-length.txt H3K4m3_ChIP_rep1.bw\n",
      "#!zcat GSM1193621_130712_ChIPseq_H3K4m3_Col_sib_cap-No_Sibs_unique_only-TRUE.wig.gz |sed '/track type/d' |sed 's/=chr/=/g' |wigToBigWig -clip stdin /psc/bioinformatics/sunyd/genome/arabidopsis_thaliana/ath_TAIR10.fa-length.txt H3K4m3_ChIP_rep2.bw\n",
      "#!zcat GSM1193626_Input_Col.wig.gz |sed '/track type/d' |sed 's/=chr/=/g' |wigToBigWig -clip stdin /psc/bioinformatics/sunyd/genome/arabidopsis_thaliana/ath_TAIR10.fa-length.txt H3K4m3_Input.bw"
     ],
     "language": "python",
     "metadata": {},
     "outputs": [],
     "prompt_number": 4
    },
    {
     "cell_type": "heading",
     "level": 6,
     "metadata": {},
     "source": [
      "Thirdly, Oryza ChIP-seq."
     ]
    },
    {
     "cell_type": "code",
     "collapsed": false,
     "input": [
      "#!cd ~/sunyd/identify/chip/GSE68299\n",
      "#!for i in H3*.wig; do j=`echo $i |cut -d \".\" -f1`; wigToBigWig -clip <(sed '/track type/d' $i) /psc/bioinformatics/sunyd/genome/oryza_sativa/osa_MSU7.fa-length.txt ${j}.bw; done"
     ],
     "language": "python",
     "metadata": {},
     "outputs": [],
     "prompt_number": 5
    },
    {
     "cell_type": "heading",
     "level": 6,
     "metadata": {},
     "source": [
      "Fourthly, Zea mays ChIP-seq."
     ]
    },
    {
     "cell_type": "code",
     "collapsed": false,
     "input": [
      "#!qsub -t 386-403 ~/sunyd/identify/script/chip_bowtie.sh /psc/bioinformatics/sunyd/genome/zea_mays/zma_AGPv2.17 ~/sunyd/identify/maize_rnaseq/maize_chip SRR029\n",
      "#!for i in chip*.e*; do sed -n '/# reads with at least one reported alignment/p' $i >> tmp; done\n",
      "#!paste <(ls SRR*.sra |cut -d \".\" -f1) tmp |sed 's/# reads with at least one reported alignment://g'> align.txt\n",
      "#!paste <(ls /psc/bioinformatics/sunyd/identify/maize_rnaseq/maize_chip/SRR*/*.bam) maize_chip.txt |cut -f1,4 > cuffnorm_sample_sheet.txt\n",
      "#!mkdir chip.expression\n",
      "#!for i in `cut -f2 ../cuffnorm_sample_sheet.txt |sort -u`; do sed -n \"/$i/p\" ../cuffnorm_sample_sheet.txt |cut -f1 |xargs samtools merge -@ 32 ${i}.bam; done\n",
      "#!for i in `sed 's/\\t/,/g' ../tmp |cat`; do j=`echo $i |cut -d, -f1`; z=`echo $i |cut -d, -f2 |sed 's/\\r//g'`; cp $j ${z}.bam; done\n",
      "#!cd ~/sunyd/identify/maize_rnaseq/maize_chip\n",
      "#!for i in 29385; do j=`echo \"$i+1\" |bc`; macs14 -t SRR0${j}/SRR0${j}.bam -c SRR0${i}/SRR0${i}.bam -f BAM -n H3K4me3_shoot --nomodel -g 2066432718 -p 0.05 -w -S; done\n",
      "#\uff01for i in 29387; do j=`echo \"$i+1\" |bc`; macs14 -t SRR0${j}/SRR0${j}.bam -c SRR0${i}/SRR0${i}.bam -f BAM -n H3K7ac_shoot --nomodel -g 2066432718 -p 0.05 -w -S; done\n",
      "#\uff01for i in 29389; do j=`echo \"$i+1\" |bc`; macs14 -t SRR0${j}/SRR0${j}.bam -c SRR0${i}/SRR0${i}.bam -f BAM -n H3K27me3_shoot --nomodel -g 2066432718 -p 0.05 -w -S; done\n",
      "#\uff01for i in 29391; do j=`echo \"$i+1\" |bc`; macs14 -t SRR0${j}/SRR0${j}.bam -c SRR0${i}/SRR0${i}.bam -f BAM -n H3K36me3_shoot --nomodel -g 2066432718 -p 0.05 -w -S; done\n",
      "#\uff01for i in 29396; do j=`echo \"$i+1\" |bc`; macs14 -t SRR0${j}/SRR0${j}.bam -c SRR0${i}/SRR0${i}.bam -f BAM -n H3K4me3_root --nomodel -g 2066432718 -p 0.05 -w -S; done\n",
      "#\uff01for i in 29398; do j=`echo \"$i+1\" |bc`; macs14 -t SRR0${j}/SRR0${j}.bam -c SRR0${i}/SRR0${i}.bam -f BAM -n H3K7ac_root --nomodel -g 2066432718 -p 0.05 -w -S; done\n",
      "#\uff01for i in 29400; do j=`echo \"$i+1\" |bc`; macs14 -t SRR0${j}/SRR0${j}.bam -c SRR0${i}/SRR0${i}.bam -f BAM -n H3K27me3_root --nomodel -g 2066432718 -p 0.05 -w -S; done\n",
      "#\uff01for i in 29402; do j=`echo \"$i+1\" |bc`; macs14 -t SRR0${j}/SRR0${j}.bam -c SRR0${i}/SRR0${i}.bam -f BAM -n H3K36me3_root --nomodel -g 2066432718 -p 0.05 -w -S; done\n",
      "#\uff01cp -r *_shoot_MACS_wiggle ~/sunyd/identify/chip/GSE15286\n",
      "#\uff01cd ~/sunyd/identify/chip/GSE15286\n",
      "#\uff01for i in *shoot_MACS_wiggle/*/*.gz; do j=`echo $i |rev |cut -d \"/\" -f1 |rev |cut -d_ -f1,3 |sed 's/control/Input/g' |sed 's/treat/ChIP/g'`; zcat $i |sed '/track type/d' |wigToBigWig -clip stdin /psc/bioinformatics/sunyd/genome/zea_mays/zma_AGPv2.17.fa-length.txt ${j}.bw; done\n"
     ],
     "language": "python",
     "metadata": {},
     "outputs": [],
     "prompt_number": 1
    },
    {
     "cell_type": "heading",
     "level": 3,
     "metadata": {},
     "source": [
      "Notice: My partner is responsible for web server built."
     ]
    }
   ],
   "metadata": {}
  }
 ]
}